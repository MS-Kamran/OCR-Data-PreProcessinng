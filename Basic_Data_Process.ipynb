{
  "nbformat": 4,
  "nbformat_minor": 0,
  "metadata": {
    "colab": {
      "provenance": []
    },
    "kernelspec": {
      "name": "python3",
      "display_name": "Python 3"
    },
    "language_info": {
      "name": "python"
    }
  },
  "cells": [
    {
      "cell_type": "markdown",
      "source": [
        "# **Convert Image To JPG**"
      ],
      "metadata": {
        "id": "x0Bz9ZVdOsMR"
      }
    },
    {
      "cell_type": "code",
      "execution_count": null,
      "metadata": {
        "id": "jJhgsbrzOcK2"
      },
      "outputs": [],
      "source": [
        "!brew install libheif\n",
        "!pip install pyheif\n",
        "!pip install pillow imageio pillow-heif"
      ]
    },
    {
      "cell_type": "code",
      "source": [
        "import os\n",
        "from PIL import Image\n",
        "import imageio\n",
        "import pillow_heif\n",
        "\n",
        "def count_and_convert_images(folder_path):\n",
        "    \"\"\"\n",
        "    Counts the number of images in a folder and its subfolders,\n",
        "    and converts all images to .jpg format.\n",
        "\n",
        "    Args:\n",
        "        folder_path: The path to the folder.\n",
        "\n",
        "    Returns:\n",
        "        The total number of images in the folder and its subfolders.\n",
        "    \"\"\"\n",
        "    total_images = 0\n",
        "\n",
        "    for root, dirs, files in os.walk(folder_path):\n",
        "        for file in files:\n",
        "            if file.lower().endswith(( '.heic')):\n",
        "                total_images += 1\n",
        "                image_path = os.path.join(root, file)\n",
        "                convert_to_jpg(image_path)\n",
        "\n",
        "    return total_images\n",
        "\n",
        "def convert_to_jpg(image_path):\n",
        "    \"\"\"\n",
        "    Converts an image to .jpg format.\n",
        "\n",
        "    Args:\n",
        "        image_path: The path to the image file.\n",
        "    \"\"\"\n",
        "    try:\n",
        "        if image_path.lower().endswith('.heic'):\n",
        "            heif_file = pillow_heif.open_heif(image_path)\n",
        "            image = Image.frombytes(\n",
        "                heif_file.mode,\n",
        "                heif_file.size,\n",
        "                heif_file.data,\n",
        "                \"raw\",\n",
        "                heif_file.mode,\n",
        "                heif_file.stride,\n",
        "            )\n",
        "        else:\n",
        "            image = Image.open(image_path)\n",
        "\n",
        "        # Convert image to RGB mode before saving as JPEG\n",
        "        image = image.convert('RGB')\n",
        "        # Construct new filename with .jpg extension\n",
        "        new_image_path = os.path.splitext(image_path)[0] + '.jpg'\n",
        "        image.save(new_image_path, 'JPEG')\n",
        "        # Optionally, remove the original file after conversion\n",
        "        if new_image_path != image_path:\n",
        "            os.remove(image_path)\n",
        "    except Exception as e:\n",
        "        print(f\"Error converting {image_path}: {e}\")\n",
        "\n",
        "# Example usage\n",
        "folder_path = \"/Users/mskamran/Documents/Data Science/Raw/Raw\"\n",
        "\n",
        "num_images = count_and_convert_images(folder_path)\n",
        "print(f\"Total images: {num_images}\")"
      ],
      "metadata": {
        "id": "Jkr-j7GTOlC5"
      },
      "execution_count": null,
      "outputs": []
    },
    {
      "cell_type": "code",
      "source": [
        "import os\n",
        "from PIL import Image\n",
        "\n",
        "def count_and_convert_images(folder_path):\n",
        "    \"\"\"\n",
        "    Counts the number of images in a folder and its subfolders,\n",
        "    and converts all images to .jpg format.\n",
        "\n",
        "    Args:\n",
        "        folder_path: The path to the folder.\n",
        "\n",
        "    Returns:\n",
        "        The total number of images in the folder and its subfolders.\n",
        "    \"\"\"\n",
        "    total_images = 0\n",
        "\n",
        "    for root, dirs, files in os.walk(folder_path):\n",
        "        for file in files:\n",
        "            if file.lower().endswith(('.png', '.jpg', '.jpeg', '.gif', '.bmp', '.heic', '.tiff', '.webp', '.svg')):\n",
        "                total_images += 1\n",
        "                image_path = os.path.join(root, file)\n",
        "                convert_to_jpg(image_path)\n",
        "\n",
        "    return total_images\n",
        "\n",
        "def convert_to_jpg(image_path):\n",
        "    \"\"\"\n",
        "    Converts an image to .jpg format.\n",
        "\n",
        "    Args:\n",
        "        image_path: The path to the image file.\n",
        "    \"\"\"\n",
        "    try:\n",
        "        with Image.open(image_path) as img:\n",
        "            # Convert image to RGB mode before saving as JPEG\n",
        "            img = img.convert('RGB')\n",
        "            # Construct new filename with .jpg extension\n",
        "            new_image_path = os.path.splitext(image_path)[0] + '.jpg'\n",
        "            img.save(new_image_path, 'JPEG')\n",
        "            # Optionally, remove the original file after conversion\n",
        "            if new_image_path != image_path:\n",
        "                os.remove(image_path)\n",
        "    except Exception as e:\n",
        "        print(f\"Error converting {image_path}: {e}\")\n",
        "\n",
        "# Example usage\n",
        "folder_path = \"/Users/mskamran/Documents/Data Science/Raw/Raw\"\n",
        "\n",
        "num_images = count_and_convert_images(folder_path)\n",
        "print(f\"Total images: {num_images}\")\n"
      ],
      "metadata": {
        "id": "LO8mdr4_OnMh"
      },
      "execution_count": null,
      "outputs": []
    },
    {
      "cell_type": "markdown",
      "source": [
        "# **RESIZE IMAGE**"
      ],
      "metadata": {
        "id": "3Uc6Q9pDTe6F"
      }
    },
    {
      "cell_type": "markdown",
      "source": [
        "# **Resized in the same folder**"
      ],
      "metadata": {
        "id": "-iNeTEV3S63r"
      }
    },
    {
      "cell_type": "code",
      "source": [
        "import os\n",
        "from PIL import Image, UnidentifiedImageError\n",
        "\n",
        "def resize_images(root_dir, target_size=(5100, 7002)):\n",
        "    total_files = 0\n",
        "    resized_count = 0\n",
        "\n",
        "    # First pass to count all eligible images\n",
        "    for root, dirs, files in os.walk(root_dir):\n",
        "        for filename in files:\n",
        "            if filename.lower().endswith(('.png', '.jpg', '.jpeg', '.gif')):\n",
        "                total_files += 1\n",
        "\n",
        "    processed_files = 0\n",
        "\n",
        "    # Second pass to resize images and track progress\n",
        "    for root, dirs, files in os.walk(root_dir):\n",
        "        for filename in files:\n",
        "            if filename.lower().endswith(('.png', '.jpg', '.jpeg', '.gif')):\n",
        "                image_path = os.path.join(root, filename)\n",
        "                try:\n",
        "                    with Image.open(image_path) as img:\n",
        "                        if img.size != target_size:\n",
        "                            resized_img = img.resize(target_size, Image.BICUBIC)\n",
        "                            resized_img.save(image_path)\n",
        "                            resized_count += 1\n",
        "                            print(f\"Resized: {image_path}\")\n",
        "                        else:\n",
        "                            print(f\"Skipped (already resized): {image_path}\")\n",
        "                except UnidentifiedImageError:\n",
        "                    print(f\"Skipped (unidentified image): {image_path}\")\n",
        "                except Exception as e:\n",
        "                    print(f\"Skipped (error: {e}): {image_path}\")\n",
        "\n",
        "                processed_files += 1\n",
        "                print(f\"Processed {processed_files} of {total_files} images. Resized: {resized_count}, Remaining: {total_files - processed_files}\")\n",
        "\n",
        "# Replace 'root_dir' with the directory you want to start from\n",
        "root_dir = '/Users/mskamran/Documents/Data Science/P2 Process'\n",
        "\n",
        "resize_images(root_dir)\n"
      ],
      "metadata": {
        "id": "FsFfq9VyS7ao"
      },
      "execution_count": null,
      "outputs": []
    },
    {
      "cell_type": "code",
      "source": [
        "import os\n",
        "from PIL import Image, UnidentifiedImageError\n",
        "\n",
        "def resize_images(root_dir, target_size=(5100, 7002)):\n",
        "    for root, dirs, files in os.walk(root_dir):\n",
        "        for filename in files:\n",
        "            if filename.lower().endswith(('.png', '.jpg', '.jpeg', '.gif')):\n",
        "                image_path = os.path.join(root, filename)\n",
        "                try:\n",
        "                    with Image.open(image_path) as img:\n",
        "                        if img.size != target_size:\n",
        "                            resized_img = img.resize(target_size, Image.BICUBIC)\n",
        "                            resized_img.save(image_path)\n",
        "                            print(f\"Resized: {image_path}\")\n",
        "                        else:\n",
        "                            print(f\"Skipped (already resized): {image_path}\")\n",
        "                except UnidentifiedImageError:\n",
        "                    print(f\"Skipped (unidentified image): {image_path}\")\n",
        "                except Exception as e:\n",
        "                    print(f\"Skipped (error: {e}): {image_path}\")\n",
        "\n",
        "# Replace 'root_dir' with the directory you want to start from\n",
        "root_dir = '/Users/mskamran/Documents/Data Science/P2 process/Scanned'\n",
        "\n",
        "resize_images(root_dir)\n"
      ],
      "metadata": {
        "id": "e-3P6Fz5TALh"
      },
      "execution_count": null,
      "outputs": []
    },
    {
      "cell_type": "code",
      "source": [
        "import os\n",
        "from PIL import Image\n",
        "\n",
        "def resize_images_in_folder(folder_path, new_size=(64, 64)):\n",
        "    \"\"\"\n",
        "    Resizes all images in a folder to the specified size.\n",
        "\n",
        "    Args:\n",
        "        folder_path (str): Path to the folder containing images.\n",
        "        new_size (tuple): New size of the images in the format (width, height).\n",
        "    \"\"\"\n",
        "    for filename in os.listdir(folder_path):\n",
        "        file_path = os.path.join(folder_path, filename)\n",
        "        if os.path.isdir(file_path):\n",
        "            # If the file is a directory, recursively call the function\n",
        "            resize_images_in_folder(file_path, new_size)\n",
        "        elif os.path.isfile(file_path):\n",
        "            # If the file is a regular file, check if it's an image\n",
        "            try:\n",
        "                img = Image.open(file_path)\n",
        "                img_resized = img.resize(new_size)\n",
        "                img_resized.save(file_path)\n",
        "                print(f\"Resized: {file_path}\")\n",
        "            except IOError:\n",
        "                print(f\"Skipping: {file_path} (Not an image)\")\n",
        "\n",
        "# Provide the root folder where you want to start resizing images\n",
        "root_folder = \"/Users/mskamran/Documents/Data Science/P2 process/Scanned\"\n",
        "resize_images_in_folder(root_folder)\n"
      ],
      "metadata": {
        "id": "XcKC8UUkTCFS"
      },
      "execution_count": null,
      "outputs": []
    },
    {
      "cell_type": "markdown",
      "source": [
        "# **Resized in the Different Folder**"
      ],
      "metadata": {
        "id": "ao4-5K-0TRFc"
      }
    },
    {
      "cell_type": "code",
      "source": [
        "import os\n",
        "from PIL import Image\n",
        "\n",
        "def resize_images(root_dir, target_dir, target_size=(28, 28)):\n",
        "    for root, dirs, files in os.walk(root_dir):\n",
        "        for filename in files:\n",
        "            if filename.lower().endswith(('.png', '.jpg', '.jpeg', '.gif')):\n",
        "                image_path = os.path.join(root, filename)\n",
        "                with Image.open(image_path) as img:\n",
        "                    if img.size != target_size:\n",
        "                        resized_img = img.resize(target_size, Image.BICUBIC)\n",
        "                        # Construct the new path to save the resized image\n",
        "                        new_path = os.path.join(target_dir, filename)\n",
        "                        resized_img.save(new_path)\n",
        "                        print(\"Resized and saved to:\", new_path)\n",
        "                    else:\n",
        "                        print(\"Skipped (already resized):\", filename)\n",
        "\n",
        "# Replace 'root_dir' and 'target_dir' with the directories you want to start from and save to\n",
        "root_dir = '/Users/mskamran/Documents/Data Science/Akshay porichoy All Letters'\n",
        "target_dir = '/Users/mskamran/Documents/Data Science/Akshay porichoy All Letters 28'\n",
        "resize_images(root_dir, target_dir)\n"
      ],
      "metadata": {
        "id": "DdQJEJ3fTRev"
      },
      "execution_count": null,
      "outputs": []
    },
    {
      "cell_type": "markdown",
      "source": [
        "# **Convert The Images into Lower Resulation**"
      ],
      "metadata": {
        "id": "7BVN0r3iTUrP"
      }
    },
    {
      "cell_type": "code",
      "source": [
        "#convert the images into lower resulation\n",
        "\n",
        "import os\n",
        "from PIL import Image\n",
        "\n",
        "def print_nested_folders(root_folder, output_folder):\n",
        "    for item in os.listdir(root_folder):\n",
        "        if os.path.isdir(os.path.join(root_folder, item)):\n",
        "            print_nested_folders(os.path.join(root_folder, item), output_folder)\n",
        "        else:\n",
        "            if item.endswith(\".jpg\"):\n",
        "                print(\"Resizing image:\", os.path.join(root_folder, item))\n",
        "                image = Image.open(os.path.join(root_folder, item))\n",
        "                resized_image = image.resize((28, 28))\n",
        "                output_path = os.path.join(output_folder, item)\n",
        "                resized_image.save(output_path)\n",
        "\n",
        "# Example usage\n",
        "root_folder = \"/content/drive/MyDrive/OCR Thesis/Kishoregonj/letters/\"\n",
        "output_folder = \"/content/drive/MyDrive/OCR Thesis/Kishoregonj/letters low resu\"\n",
        "print_nested_folders(root_folder, output_folder)\n"
      ],
      "metadata": {
        "id": "REJRo4AvTU8y"
      },
      "execution_count": null,
      "outputs": []
    }
  ]
}