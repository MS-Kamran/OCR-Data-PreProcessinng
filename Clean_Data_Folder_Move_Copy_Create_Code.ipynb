{
  "nbformat": 4,
  "nbformat_minor": 0,
  "metadata": {
    "colab": {
      "provenance": []
    },
    "kernelspec": {
      "name": "python3",
      "display_name": "Python 3"
    },
    "language_info": {
      "name": "python"
    }
  },
  "cells": [
    {
      "cell_type": "markdown",
      "source": [
        "# **Copy many folder to one**"
      ],
      "metadata": {
        "id": "zIdIgjUFU2hA"
      }
    },
    {
      "cell_type": "code",
      "execution_count": null,
      "metadata": {
        "id": "t8tD5yS7UxMr"
      },
      "outputs": [],
      "source": [
        "import os\n",
        "from shutil import copy2\n",
        "\n",
        "# Replace with your actual root path on your MacBook\n",
        "root_path = \"/Users/mskamran/Documents/Data Science/Raw/Raw\"\n",
        "\n",
        "# Replace with your preferred destination folder on your MacBook\n",
        "destination_folder = \"/Users/mskamran/Documents/Data Science/Raw/ALL\"\n",
        "\n",
        "# Ensure destination folder exists\n",
        "os.makedirs(destination_folder, exist_ok=True)  # Create if it doesn't exist\n",
        "\n",
        "# Iterate through subdirectories in the root path\n",
        "for dirpath, dirnames, filenames in os.walk(root_path):\n",
        "    for filename in filenames:\n",
        "        # Check if file is a supported image\n",
        "        if filename.endswith((\".jpg\", \".jpeg\", \".png\", \".bmp\", \".gif\")):\n",
        "            # Construct original and destination file paths\n",
        "            source_path = os.path.join(dirpath, filename)\n",
        "            dest_path = os.path.join(destination_folder, filename)\n",
        "\n",
        "            # Handle potential file conflicts (optional)\n",
        "            # ... (Implement your desired conflict handling here, e.g., overwrite, rename) ...\n",
        "\n",
        "            try:\n",
        "                # Copy the image to the destination folder\n",
        "                copy2(source_path, dest_path)\n",
        "                print(f\"Copied {filename} to {dest_path}\")\n",
        "\n",
        "            except OSError as e:\n",
        "                print(f\"Error copying {filename}: {e}\")  # Handle potential errors\n",
        "\n",
        "print(\"Image copying completed!\")\n"
      ]
    },
    {
      "cell_type": "markdown",
      "source": [
        "# **Copy page 1 or 2**"
      ],
      "metadata": {
        "id": "m6O-Vm3rWRGn"
      }
    },
    {
      "cell_type": "code",
      "source": [
        "import os\n",
        "from shutil import copy2\n",
        "\n",
        "def rename_and_copy_images(root_dir, destination_folder):\n",
        "    for root, dirs, files in os.walk(root_dir):\n",
        "        serial_number = 1\n",
        "        for filename in files:\n",
        "            if filename.lower().endswith(('.png', '.jpg', '.jpeg', '.gif')):\n",
        "                old_path = os.path.join(root, filename)\n",
        "                parts = filename.split('_')\n",
        "                if parts[5] == \"P2\":\n",
        "                    # If \"P1\" is present in the 5th position, copy the image to the destination folder\n",
        "                    copy_path = os.path.join(destination_folder, filename)\n",
        "                    copy2(old_path, copy_path)\n",
        "                    print(\"Copied:\", filename, \"->\", copy_path)\n",
        "\n",
        "\n",
        "# Replace 'root_dir' with the directory you want to start from\n",
        "root_dir = \"/Users/mskamran/Documents/Data Science/All Types Of Datas/New Data/Lebeled\"\n",
        "\n",
        "# Replace 'destination_folder' with the path to the folder where you want to copy the images\n",
        "destination_folder = '/Users/mskamran/Documents/Data Science/All Types Of Datas/New Data/P2'\n",
        "\n",
        "rename_and_copy_images(root_dir, destination_folder)"
      ],
      "metadata": {
        "id": "L4860exWWR7W"
      },
      "execution_count": null,
      "outputs": []
    },
    {
      "cell_type": "markdown",
      "source": [
        "# **Many Folder to one Folder MOVING Code**"
      ],
      "metadata": {
        "id": "6dnYX3lwVCl-"
      }
    },
    {
      "cell_type": "code",
      "source": [
        "import os\n",
        "import shutil\n",
        "\n",
        "# Replace with your actual root path on your MacBook\n",
        "root_path =  '/Users/mskamran/Documents/Data Science/Raw/Raw'\n",
        "\n",
        "# Replace with your preferred destination folder on your MacBook\n",
        "destination_folder = \"/Users/mskamran/Documents/Data Science/Raw/ALL\"\n",
        "\n",
        "# Ensure destination folder exists\n",
        "os.makedirs(destination_folder, exist_ok=True)  # Create if it doesn't exist\n",
        "\n",
        "# Iterate through subdirectories in the root path\n",
        "for dirpath, dirnames, filenames in os.walk(root_path):\n",
        "    for filename in filenames:\n",
        "        # Check if file is a supported image\n",
        "        if filename.endswith((\".jpg\", \".jpeg\", \".png\", \".bmp\", \".gif\")):\n",
        "            # Construct original and destination file paths\n",
        "            source_path = os.path.join(dirpath, filename)\n",
        "            dest_path = os.path.join(destination_folder, filename)\n",
        "\n",
        "            # Handle potential file conflicts (optional)\n",
        "            # ... (Implement your desired conflict handling here, e.g., overwrite, rename) ...\n",
        "\n",
        "            try:\n",
        "                # Copy the image to the destination folder\n",
        "                shutil.copy2(source_path, dest_path)\n",
        "\n",
        "                print(f\"Copied {filename} to {dest_path}\")\n",
        "\n",
        "            except OSError as e:\n",
        "                print(f\"Error processing {filename}: {e}\")  # Handle potential errors\n",
        "\n",
        "print(\"Image copying completed!\")"
      ],
      "metadata": {
        "id": "drmgbfXvVC15"
      },
      "execution_count": null,
      "outputs": []
    },
    {
      "cell_type": "markdown",
      "source": [
        "# **Creating many Folders**"
      ],
      "metadata": {
        "id": "fyiB0zMhVIB9"
      }
    },
    {
      "cell_type": "code",
      "source": [
        "\n",
        "  [\n",
        "    'অ', 'আ', 'ই', 'ঈ', 'উ', 'ঊ',\n",
        "    'ঋ', 'এ', 'ঐ', 'ও', 'ঔ', 'ক',\n",
        "    'খ', 'গ', 'ঘ', 'ঙ', 'চ', 'ছ',\n",
        "    'জ', 'ঝ', 'ঞ', 'ট', 'ঠ', 'ড',\n",
        "    'ঢ', 'ণ', 'ত', 'থ', 'দ', 'ধ',\n",
        "    'ন', 'প', 'ফ', 'ব', 'ভ', 'ম',\n",
        "    'য', 'র', 'ল', 'শ', 'ষ', 'স',\n",
        "    'হ', 'ড়', 'ঢ়', 'য়', 'ৎ', 'ং',\n",
        "    'ো', 'ঁ', 'া', 'ি', 'ী', 'ু',\n",
        "    'ে', 'ৈ', 'ৌ', '‍্য', '্র', 'ৃ',\n",
        "    'ূ', 'ঃ', '১', '২', '৩', '৪',\n",
        "    '৫', '৬', '৭', '৮', '৯', '০',\n",
        "    'ক্ষ', 'ঞ্চ', 'ঞ্জ', 'ণ্ট', 'ক্ত', 'ন্ন',\n",
        "    'চ্ছ', 'ন্ত', 'ন্ড', 'স্ত', 'স্ট', 'জ্জ',\n",
        "    'স্থ', 'হ্ণ', 'হ্ন', 'ক্ল', 'ন্দ', 'ত্ম',\n",
        "    'শ্র', 'জ্ঞ', 'দ্ব', 'ব্ল', 'ম্ন', 'দ্ধ'\n",
        "]\n",
        "\n",
        "#ekush net\n",
        "[\n",
        "    'া', 'ি', 'ী', 'ু', 'ূ', 'ৃ', 'ে', 'ৈ', 'ো', 'ৌ',\n",
        "    'অ', 'আ', 'ই', 'ঈ', 'উ', 'ঊ', 'ঋ', 'এ', 'ঐ', 'ও',\n",
        "    'ঔ', 'ক', 'খ', 'গ', 'ঘ', 'ঙ', 'চ', 'ছ', 'জ', 'ঝ',\n",
        "    'ঞ', 'ট', 'ঠ', 'ড', 'ঢ', 'ণ', 'ত', 'থ', 'দ', 'ধ',\n",
        "    'ন', 'প', 'ফ', 'ব', 'ভ', 'ম', 'য', 'র', 'ল', 'শ',\n",
        "    'ষ', 'স', 'হ', 'ড়', 'ঢ়', 'য়', 'ৎ', 'ং', 'ঃ', 'ঁ',\n",
        "    'ব্দ', 'ঙ্গ', 'স্ক', 'স্ফ', 'চ্ছ', 'স্থ', 'ক্ত', 'স্ন', 'ষ্ণ',\n",
        "    'ম্প', 'প্ত', 'ম্ব', 'ত্থ', 'দ্ভ', 'ষ্ঠ', 'ল্প', 'ষ্প', 'ন্দ', 'ন্ধ',\n",
        "    'স্ম', 'ণ্ঠ', 'স্ত', 'ষ্ট', 'ন্ম', 'ত্ত', 'ঙ্খ', 'ত্ন', 'ন্ড', 'জ্ঞ',\n",
        "    'ড্ড', 'ক্ষ', 'দ্ব', 'চ্চ', 'ক্র', 'দ্দ', 'জ্জ', 'ক্ক', 'ন্ত', 'ক্ট',\n",
        "    'ঞ্চ', 'ট্ট', 'শ্চ', 'ক্স', 'জ্ব', 'ঞ্জ', 'দ্ধ', 'ন্ন', 'ঘ্ন', 'ক্ল',\n",
        "    'হ্ন', 'স্প', 'ল্ত', '0', '1', '2', '3', '4', '5',\n",
        "    '6', '7', '8', '9'\n",
        "]"
      ],
      "metadata": {
        "id": "pcFXPii-VIXY"
      },
      "execution_count": null,
      "outputs": []
    },
    {
      "cell_type": "code",
      "source": [
        "import os\n",
        "\n",
        "bangla_alphabets =  [\n",
        "    'া', 'ি', 'ী', 'ু', 'ূ', 'ৃ', 'ে', 'ৈ', 'ো', 'ৌ',\n",
        "    'অ', 'আ', 'ই', 'ঈ', 'উ', 'ঊ', 'ঋ', 'এ', 'ঐ', 'ও',\n",
        "    'ঔ', 'ক', 'খ', 'গ', 'ঘ', 'ঙ', 'চ', 'ছ', 'জ', 'ঝ',\n",
        "    'ঞ', 'ট', 'ঠ', 'ড', 'ঢ', 'ণ', 'ত', 'থ', 'দ', 'ধ',\n",
        "    'ন', 'প', 'ফ', 'ব', 'ভ', 'ম', 'য', 'র', 'ল', 'শ',\n",
        "    'ষ', 'স', 'হ', 'ড়', 'ঢ়', 'য়', 'ৎ', 'ং', 'ঃ', 'ঁ',\n",
        "    'ব্দ', 'ঙ্গ', 'স্ক', 'স্ফ', 'চ্ছ', 'স্থ', 'ক্ত', 'স্ন', 'ষ্ণ',\n",
        "    'ম্প', 'প্ত', 'ম্ব', 'ত্থ', 'দ্ভ', 'ষ্ঠ', 'ল্প', 'ষ্প', 'ন্দ', 'ন্ধ',\n",
        "    'স্ম', 'ণ্ঠ', 'স্ত', 'ষ্ট', 'ন্ম', 'ত্ত', 'ঙ্খ', 'ত্ন', 'ন্ড', 'জ্ঞ',\n",
        "    'ড্ড', 'ক্ষ', 'দ্ব', 'চ্চ', 'ক্র', 'দ্দ', 'জ্জ', 'ক্ক', 'ন্ত', 'ক্ট',\n",
        "    'ঞ্চ', 'ট্ট', 'শ্চ', 'ক্স', 'জ্ব', 'ঞ্জ', 'দ্ধ', 'ন্ন', 'ঘ্ন', 'ক্ল',\n",
        "    'হ্ন', 'স্প', 'ল্ত', '0', '1', '2', '3', '4', '5',\n",
        "    '6', '7', '8', '9'\n",
        "]\n",
        "\n",
        "  #['C6', 'C8', 'C9', 'C10', 'C4', 'C2', 'C7', 'C1', 'C3', 'C5', 'C12', 'C11']\n",
        "\n",
        "\n",
        "  #['A12', 'A15', 'A11', 'A9', 'A10', 'A5', 'A14', 'A13', 'A4', 'A7', 'A16', 'A8', 'C14', 'A18', 'C15', 'A17', 'C12', 'A', 'A6', 'A19', 'C13', 'A21']\n",
        "\n",
        "\n",
        " #[\"class1\", \"class2\", \"class3\", \"class4\", \"class5\", \"class6\", \"class7\", \"class8\", \"class9\", \"class10\"]\n",
        " #['age4', 'age5', 'age6', 'age7', 'age8', 'age9', 'age10', 'age11', 'age12', 'age13', 'age14', 'age15', 'age16', 'age17', 'age18']\n",
        "\n",
        "# Function to create folders within a root folder\n",
        "def create_folders(root_folder, alphabets):\n",
        "    for alphabet in alphabets:\n",
        "        folder_path = os.path.join(root_folder, alphabet)\n",
        "        try:\n",
        "            os.makedirs(folder_path)\n",
        "            print(f\"Folder created: {folder_path}\")\n",
        "        except FileExistsError:\n",
        "            print(f\"Folder already exists: {folder_path}\")\n",
        "\n",
        "# Specify the root folder path\n",
        "root_folder_path = \"/Users/mskamran/Documents/Data Science/Data Set With Augment/letters/Ekush Clean\"  # Change this to your desired root folder path\n",
        "\n",
        "# Call the function to create folders within the root folder\n",
        "create_folders(root_folder_path, bangla_alphabets)"
      ],
      "metadata": {
        "id": "02zw_ahvVQPg"
      },
      "execution_count": null,
      "outputs": []
    },
    {
      "cell_type": "markdown",
      "source": [
        "# **Move letters to its Destination folder**"
      ],
      "metadata": {
        "id": "33aPN_l2VaLp"
      }
    },
    {
      "cell_type": "code",
      "source": [
        "#working code\n",
        "\n",
        "  [\n",
        "    'অ', 'আ', 'ই', 'ঈ', 'উ', 'ঊ',\n",
        "    'ঋ', 'এ', 'ঐ', 'ও', 'ঔ', 'ক',\n",
        "    'খ', 'গ', 'ঘ', 'ঙ', 'চ', 'ছ',\n",
        "    'জ', 'ঝ', 'ঞ', 'ট', 'ঠ', 'ড',\n",
        "    'ঢ', 'ণ', 'ত', 'থ', 'দ', 'ধ',\n",
        "    'ন', 'প', 'ফ', 'ব', 'ভ', 'ম',\n",
        "    'য', 'র', 'ল', 'শ', 'ষ', 'স',\n",
        "    'হ', 'ড়', 'ঢ়', 'য়', 'ৎ', 'ং',\n",
        "    'ো', 'ঁ', 'া', 'ি', 'ী', 'ু',\n",
        "    'ে', 'ৈ', 'ৌ', '‍্য', '্র', 'ৃ',\n",
        "    'ূ', 'ঃ', '১', '২', '৩', '৪',\n",
        "    '৫', '৬', '৭', '৮', '৯', '০',\n",
        "    'ক্ষ', 'ঞ্চ', 'ঞ্জ', 'ণ্ট', 'ক্ত', 'ন্ন',\n",
        "    'চ্ছ', 'ন্ত', 'ন্ড', 'স্ত', 'স্ট', 'জ্জ',\n",
        "    'স্থ', 'হ্ণ', 'হ্ন', 'ক্ল', 'ন্দ', 'ত্ম',\n",
        "    'শ্র', 'জ্ঞ', 'দ্ব', 'ব্ল', 'ম্ন', 'দ্ধ'\n",
        "]\n",
        "\n",
        "\n",
        "[\n",
        "    'া', 'ি', 'ী', 'ু', 'ূ', 'ৃ', 'ে', 'ৈ', 'ো', 'ৌ',\n",
        "    'অ', 'আ', 'ই', 'ঈ', 'উ', 'ঊ', 'ঋ', 'এ', 'ঐ', 'ও',\n",
        "    'ঔ', 'ক', 'খ', 'গ', 'ঘ', 'ঙ', 'চ', 'ছ', 'জ', 'ঝ',\n",
        "    'ঞ', 'ট', 'ঠ', 'ড', 'ঢ', 'ণ', 'ত', 'থ', 'দ', 'ধ',\n",
        "    'ন', 'প', 'ফ', 'ব', 'ভ', 'ম', 'য', 'র', 'ল', 'শ',\n",
        "    'ষ', 'স', 'হ', 'ড়', 'ঢ়', 'য়', 'ৎ', 'ং', 'ঃ', 'ঁ',\n",
        "    'ব্দ', 'ঙ্গ', 'স্ক', 'স্ফ', 'চ্ছ', 'স্থ', 'ক্ত', 'স্ন', 'ষ্ণ',\n",
        "    'ম্প', 'প্ত', 'ম্ব', 'ত্থ', 'দ্ভ', 'ষ্ঠ', 'ল্প', 'ষ্প', 'ন্দ', 'ন্ধ',\n",
        "    'স্ম', 'ণ্ঠ', 'স্ত', 'ষ্ট', 'ন্ম', 'ত্ত', 'ঙ্খ', 'ত্ন', 'ন্ড', 'জ্ঞ',\n",
        "    'ড্ড', 'ক্ষ', 'দ্ব', 'চ্চ', 'ক্র', 'দ্দ', 'জ্জ', 'ক্ক', 'ন্ত', 'ক্ট',\n",
        "    'ঞ্চ', 'ট্ট', 'শ্চ', 'ক্স', 'জ্ব', 'ঞ্জ', 'দ্ধ', 'ন্ন', 'ঘ্ন', 'ক্ল',\n",
        "    'হ্ন', 'স্প', 'ল্ত', '0', '1', '2', '3', '4', '5',\n",
        "    '6', '7', '8', '9'\n",
        "]"
      ],
      "metadata": {
        "id": "h6ykuaPMVa1E"
      },
      "execution_count": null,
      "outputs": []
    },
    {
      "cell_type": "code",
      "source": [
        "import os\n",
        "import shutil\n",
        "\n",
        "# Characters array\n",
        "characters_array = ['P1', 'P2']\n",
        "\n",
        " #['1', '0', 'OTH']\n",
        "\n",
        " #['০', 'চ্চ', '৬', '৭', '৮', '৯']\n",
        "\n",
        " #['M', 'F']\n",
        "\n",
        "  #['C6', 'C8', 'C9', 'C10', 'C4', 'C2', 'C7', 'C1', 'C3', 'C5', 'C12', 'C11']\n",
        "\n",
        "\n",
        "   #['A12', 'A15', 'A11', 'A9', 'A10', 'A5', 'A14', 'A13', 'A4', 'A7', 'A16', 'A8', 'C14', 'A18', 'C15', 'A17', 'C12', 'A', 'A6', 'A19', 'C13', 'A21']\n",
        "\n",
        "# Replace with your source folder containing the images\n",
        "source_folder = \"/Users/mskamran/Documents/Data Science/Raw/ALL\"\n",
        "\n",
        "# Base destination folder\n",
        "base_destination_folder = \"/Users/mskamran/Documents/Data Science/Raw/Page\"\n",
        "\n",
        "# Ensure base destination folder exists\n",
        "os.makedirs(base_destination_folder, exist_ok=True)  # Create if it doesn't exist\n",
        "\n",
        "# List all files in the source folder\n",
        "all_files = os.listdir(source_folder)\n",
        "\n",
        "# Define batch size\n",
        "batch_size = 1000\n",
        "\n",
        "# Calculate the number of batches\n",
        "num_batches = len(all_files) // batch_size + 1\n",
        "\n",
        "for batch_idx in range(num_batches):\n",
        "    # Get start and end index for the current batch\n",
        "    start_idx = batch_idx * batch_size\n",
        "    end_idx = min((batch_idx + 1) * batch_size, len(all_files))\n",
        "\n",
        "    # Iterate through files in the current batch\n",
        "    for filename in all_files[start_idx:end_idx]:\n",
        "        # Split the filename to extract the characters at the 7th position\n",
        "        parts = filename.split(\"_\")\n",
        "        if len(parts) >= 6:\n",
        "            # Extract the characters part from the filename\n",
        "            characters = parts[5]\n",
        "\n",
        "            # Check if the characters are in the characters_array\n",
        "            if any(char in characters for char in characters_array):\n",
        "                # Get the corresponding destination folder name\n",
        "                destination_folder = os.path.join(base_destination_folder, characters)\n",
        "\n",
        "                # Ensure destination folder exists for the characters\n",
        "                os.makedirs(destination_folder, exist_ok=True)\n",
        "\n",
        "                # Construct source and destination paths\n",
        "                source_path = os.path.join(source_folder, filename)\n",
        "                dest_path = os.path.join(destination_folder, filename)\n",
        "\n",
        "                # Move the image to the destination folder\n",
        "                shutil.move(source_path, dest_path)\n",
        "\n",
        "    print(f\"Batch {batch_idx+1}/{num_batches} completed\")\n",
        "\n",
        "print(\"Image moving completed!\")\n"
      ],
      "metadata": {
        "id": "KfCrDTnxVjlO"
      },
      "execution_count": null,
      "outputs": []
    },
    {
      "cell_type": "markdown",
      "source": [
        "# **Move image based on size**"
      ],
      "metadata": {
        "id": "Wp_TRfa7Vz0t"
      }
    },
    {
      "cell_type": "code",
      "source": [
        "import os\n",
        "from PIL import Image\n",
        "import shutil\n",
        "\n",
        "# Source and destination directories\n",
        "source_dir = '/Users/mskamran/Documents/Data Science/P2 Process/Mobile'\n",
        "destination_dir = '/Users/mskamran/Documents/Data Science/P2 Process/Scanned'\n",
        "\n",
        "# Create destination directory if it doesn't exist\n",
        "os.makedirs(destination_dir, exist_ok=True)\n",
        "\n",
        "# Target image sizes\n",
        "target_sizes = [(2550, 3501 )]   #[(4960, 7015), (5100, 7002)]\n",
        "\n",
        "# Function to move images of specified sizes\n",
        "def move_images_of_target_sizes(source_dir, destination_dir, target_sizes):\n",
        "    for filename in os.listdir(source_dir):\n",
        "        file_path = os.path.join(source_dir, filename)\n",
        "\n",
        "        # Check if it's a file\n",
        "        if os.path.isfile(file_path):\n",
        "            try:\n",
        "                with Image.open(file_path) as img:\n",
        "                    if img.size in target_sizes:\n",
        "                        shutil.move(file_path, os.path.join(destination_dir, filename))\n",
        "                        print(f'Moved: {filename}')\n",
        "            except Exception as e:\n",
        "                print(f'Error processing file {filename}: {e}')\n",
        "\n",
        "# Execute the function\n",
        "move_images_of_target_sizes(source_dir, destination_dir, target_sizes)\n"
      ],
      "metadata": {
        "id": "f8aQN9PBV0Ou"
      },
      "execution_count": null,
      "outputs": []
    },
    {
      "cell_type": "markdown",
      "source": [
        "# **Copy For Testing random Sample**"
      ],
      "metadata": {
        "id": "TfGEPvCvV3LI"
      }
    },
    {
      "cell_type": "code",
      "source": [
        "import os\n",
        "import random\n",
        "import shutil\n",
        "\n",
        "# Source folder containing the photos\n",
        "source_folder = \"/Users/mskamran/Documents/Data Science/Data Set With Augment/Gender/128 Gender under sample aug/F\"\n",
        "\n",
        "# Destination folder where the selected photos will be copied\n",
        "destination_folder = \"/Users/mskamran/Documents/Data Science/Data Set With Augment/Gender/t/test\"\n",
        "\n",
        "# Ensure the destination folder exists\n",
        "if not os.path.exists(destination_folder):\n",
        "    os.makedirs(destination_folder)\n",
        "\n",
        "# List all files in the source folder\n",
        "files = os.listdir(source_folder)\n",
        "\n",
        "# Filter the list to only include image files\n",
        "image_files = [file for file in files if file.endswith(('.jpg', '.jpeg', '.png'))]\n",
        "\n",
        "# Randomly select 100 photos\n",
        "selected_photos = random.sample(image_files, 100)\n",
        "\n",
        "# Copy the selected photos to the destination folder\n",
        "for photo in selected_photos:\n",
        "    source_path = os.path.join(source_folder, photo)\n",
        "    destination_path = os.path.join(destination_folder, photo)\n",
        "    shutil.copyfile(source_path, destination_path)\n",
        "\n",
        "print(\"Selected photos copied to destination folder.\")\n"
      ],
      "metadata": {
        "id": "E2kkdRGhV3Zj"
      },
      "execution_count": null,
      "outputs": []
    },
    {
      "cell_type": "markdown",
      "source": [
        "# **Copy Folder Structure and Resize the Image**"
      ],
      "metadata": {
        "id": "O-hhKc4GYEXN"
      }
    },
    {
      "cell_type": "code",
      "source": [
        "from PIL import Image\n",
        "import os\n",
        "\n",
        "# Function to resize images in a folder and its subfolders\n",
        "def resize_images(input_folder, output_folder, target_size=(256, 256)):\n",
        "    # Iterate through all files and subfolders in the input folder\n",
        "    for root, dirs, files in os.walk(input_folder):\n",
        "        # Create corresponding subfolders in the output directory\n",
        "        rel_path = os.path.relpath(root, input_folder)\n",
        "        output_subfolder = os.path.join(output_folder, rel_path)\n",
        "        os.makedirs(output_subfolder, exist_ok=True)\n",
        "\n",
        "        for file in files:\n",
        "            # Check if the file is an image\n",
        "            if file.lower().endswith(('.png', '.jpg', '.jpeg', '.gif', '.bmp')):\n",
        "                input_path = os.path.join(root, file)\n",
        "                output_path = os.path.join(output_subfolder, file)\n",
        "\n",
        "                # Open the image file\n",
        "                with Image.open(input_path) as img:\n",
        "                    # Resize the image\n",
        "                    img_resized = img.resize(target_size)\n",
        "\n",
        "                    # Save the resized image\n",
        "                    img_resized.save(output_path)\n",
        "\n",
        "# Example usage\n",
        "input_folder = \"/Users/mskamran/Documents/Data Science/letters in different quality image/512 letter by augment\"\n",
        "output_folder = \"/Users/mskamran/Documents/Data Science/letters in different quality image/256 letter by aug\"\n",
        "resize_images(input_folder, output_folder, target_size=(256, 256))\n"
      ],
      "metadata": {
        "id": "UREW2QmHYE3X"
      },
      "execution_count": null,
      "outputs": []
    },
    {
      "cell_type": "markdown",
      "source": [
        "# **Show file names**"
      ],
      "metadata": {
        "id": "ycfiezmuWClk"
      }
    },
    {
      "cell_type": "code",
      "source": [
        "# prompt: store images names in a n array and print first 5 of the array\n",
        "\n",
        "import os\n",
        "\n",
        "# Get the path to the directory containing the images\n",
        "image_dir = \"/Users/mskamran/Documents/Data Science/final letters process/Ekush Net/Ekush Net All Data 28 final\"\n",
        "\n",
        "# Get a list of all the files in the directory\n",
        "files = os.listdir(image_dir)\n",
        "\n",
        "# Filter the list to only include files with the extensions .jpg, .jpeg, or .png\n",
        "images = [file for file in files if file.endswith(('.jpg', '.jpeg', '.png'))]\n",
        "\n",
        "# Print the first 5 elements of the images list\n",
        "# Assuming `images` is a string variable containing the image names\n",
        "print(\"\\n\".join(images[:10000]))"
      ],
      "metadata": {
        "id": "NKbYkhJsWC6M"
      },
      "execution_count": null,
      "outputs": []
    },
    {
      "cell_type": "markdown",
      "source": [
        "# **Creating Many Folders**"
      ],
      "metadata": {
        "id": "Nj7XBugiXpdO"
      }
    },
    {
      "cell_type": "markdown",
      "source": [
        "# For Old Data"
      ],
      "metadata": {
        "id": "i2ZlImdaXubl"
      }
    },
    {
      "cell_type": "code",
      "source": [
        "import os\n",
        "\n",
        "bangla_alphabets = [\n",
        "    'অ', 'ঋ', 'খ', 'জ', 'ঢ', 'ন', 'য', 'হ', 'ো', 'ে', 'ূ', '৪', 'ক্ষ', 'চ্ছ', 'স্থ', 'শ্র',\n",
        "    'আ', 'এ', 'গ', 'ঝ', 'ণ', 'প', 'র', 'ড়', 'ঁ', 'ৈ', 'ৃ', '৫', 'ঞ্চ', 'ন্ত', 'হ্ণ', 'জ্ঞ',\n",
        "    'ই', 'ঐ', 'ঘ', 'ঞ', 'ত', 'ফ', 'ল', 'ঢ়', 'া', 'ো', '০', '৬', 'ঞ্জ', 'ন্ড', 'হ্ন', 'দ্ব',\n",
        "    'ঈ', 'ও', 'ঙ', 'ট', 'থ', 'ব', 'শ', 'য়', 'ি', 'ৌ', '১', '৭', 'ণ্ট', 'স্ত', 'ক্ল', 'ব্ল',\n",
        "    'উ', 'ঔ', 'চ', 'ঠ', 'দ', 'ভ', 'ষ', 'ৎ', 'ী', '্য', '২', '৮', 'ক্ত', 'স্ট', 'ন্দ', 'ম্ন',\n",
        "    'ঊ', 'ক', 'ছ', 'ড', 'ধ', 'ম', 'স', 'ং', 'ু', '্র', '৩', '৯', 'চ্চ', 'স্ত', 'ন্ন'\n",
        "]\n",
        "\n",
        "# Function to create folders within a root folder\n",
        "def create_folders(root_folder, alphabets):\n",
        "    for alphabet in alphabets:\n",
        "        folder_path = os.path.join(root_folder, alphabet)\n",
        "        try:\n",
        "            os.makedirs(folder_path)\n",
        "            print(f\"Folder created: {folder_path}\")\n",
        "        except FileExistsError:\n",
        "            print(f\"Folder already exists: {folder_path}\")\n",
        "\n",
        "# Specify the root folder path\n",
        "root_folder_path = \"//Users/mskamran/Documents/Data Science/letters in different quality image/28*28 letters by seperation\"  # Change this to your desired root folder path\n",
        "\n",
        "# Call the function to create folders within the root folder\n",
        "create_folders(root_folder_path, bangla_alphabets)\n"
      ],
      "metadata": {
        "id": "06L3aYDYXsXX"
      },
      "execution_count": null,
      "outputs": []
    },
    {
      "cell_type": "markdown",
      "source": [
        "# For New Data"
      ],
      "metadata": {
        "id": "sPcbHVpsXzoG"
      }
    },
    {
      "cell_type": "code",
      "source": [
        "import os\n",
        "\n",
        "bangla_alphabets = [\n",
        "    'অ', 'আ', 'ই', 'ঈ', 'উ', 'ঊ',\n",
        "    'ঋ', 'এ', 'ঐ', 'ও', 'ঔ', 'ক',\n",
        "    'খ', 'গ', 'ঘ', 'ঙ', 'চ', 'ছ',\n",
        "    'জ', 'ঝ', 'ঞ', 'ট', 'ঠ', 'ড',\n",
        "    'ঢ', 'ণ', 'ত', 'থ', 'দ', 'ধ',\n",
        "    'ন', 'প', 'ফ', 'ব', 'ভ', 'ম',\n",
        "    'য', 'র', 'ল', 'শ', 'ষ', 'স',\n",
        "    'হ', 'ড়', 'ঢ়', 'য়', 'ৎ', 'ং',\n",
        "    'ো', 'ঁ', 'া', 'ি', 'ী', 'ু',\n",
        "    'ে', 'ৈ', 'ৌ', '‍্য', '্র', 'ৃ',\n",
        "    'ূ', 'ঃ', '১', '২', '৩', '৪',\n",
        "    '৫', '৬', '৭', '৮', '৯', '০',\n",
        "    'ক্ষ', 'ঞ্চ', 'ঞ্জ', 'ণ্ট', 'ক্ত', 'ন্ন',\n",
        "    'চ্ছ', 'ন্ত', 'ন্ড', 'স্ত', 'স্ট', 'জ্জ',\n",
        "    'স্থ', 'হ্ণ', 'হ্ন', 'ক্ল', 'ন্দ', 'ত্ম',\n",
        "    'শ্র', 'জ্ঞ', 'দ্ব', 'ব্ল', 'ম্ন', 'দ্ধ'\n",
        "]\n",
        "\n",
        "# Function to create folders within a root folder\n",
        "def create_folders(root_folder, alphabets):\n",
        "    for alphabet in alphabets:\n",
        "        folder_path = os.path.join(root_folder, alphabet)\n",
        "        try:\n",
        "            os.makedirs(folder_path)\n",
        "            print(f\"Folder created: {folder_path}\")\n",
        "        except FileExistsError:\n",
        "            print(f\"Folder already exists: {folder_path}\")\n",
        "\n",
        "# Specify the root folder path\n",
        "root_folder_path = \"//Users/mskamran/Documents/Data Science/letters in different quality image/28*28 letters by seperation\"  # Change this to your desired root folder path\n",
        "\n",
        "# Call the function to create folders within the root folder\n",
        "create_folders(root_folder_path, bangla_alphabets)\n"
      ],
      "metadata": {
        "id": "KOkgSrQhX2gN"
      },
      "execution_count": null,
      "outputs": []
    },
    {
      "cell_type": "markdown",
      "source": [
        "# For Ekush Net"
      ],
      "metadata": {
        "id": "S-JBj7LRX8CQ"
      }
    },
    {
      "cell_type": "code",
      "source": [
        "import os\n",
        "\n",
        "bangla_alphabets = [\n",
        "    'া', 'ি', 'ী', 'ু', 'ূ', 'ৃ', 'ে', 'ৈ', 'ো', 'ৌ',\n",
        "    'অ', 'আ', 'ই', 'ঈ', 'উ', 'ঊ', 'ঋ', 'এ', 'ঐ', 'ও',\n",
        "    'ঔ', 'ক', 'খ', 'গ', 'ঘ', 'ঙ', 'চ', 'ছ', 'জ', 'ঝ',\n",
        "    'ঞ', 'ট', 'ঠ', 'ড', 'ঢ', 'ণ', 'ত', 'থ', 'দ', 'ধ',\n",
        "    'ন', 'প', 'ফ', 'ব', 'ভ', 'ম', 'য', 'র', 'ল', 'শ',\n",
        "    'ষ', 'স', 'হ', 'ড়', 'ঢ়', 'য়', 'ৎ', 'ং', 'ঃ', 'ঁ',\n",
        "    'ব্দ', 'ঙ্গ', 'স্ক', 'স্ফ', 'চ্ছ', 'স্থ', 'ক্ত', 'স্ন', 'ষ্ণ',\n",
        "    'ম্প', 'প্ত', 'ম্ব', 'ত্থ', 'দ্ভ', 'ষ্ঠ', 'ল্প', 'ষ্প', 'ন্দ', 'ন্ধ',\n",
        "    'স্ম', 'ণ্ঠ', 'স্ত', 'ষ্ট', 'ন্ম', 'ত্ত', 'ঙ্খ', 'ত্ন', 'ন্ড', 'জ্ঞ',\n",
        "    'ড্ড', 'ক্ষ', 'দ্ব', 'চ্চ', 'ক্র', 'দ্দ', 'জ্জ', 'ক্ক', 'ন্ত', 'ক্ট',\n",
        "    'ঞ্চ', 'ট্ট', 'শ্চ', 'ক্স', 'জ্ব', 'ঞ্জ', 'দ্ধ', 'ন্ন', 'ঘ্ন', 'ক্ল',\n",
        "    'হ্ন', 'স্প', 'ল্ত', '0', '1', '2', '3', '4', '5',\n",
        "    '6', '7', '8', '9'\n",
        "]\n",
        "\n",
        "# Function to create folders within a root folder\n",
        "def create_folders(root_folder, alphabets):\n",
        "    for alphabet in alphabets:\n",
        "        folder_path = os.path.join(root_folder, alphabet)\n",
        "        try:\n",
        "            os.makedirs(folder_path)\n",
        "            print(f\"Folder created: {folder_path}\")\n",
        "        except FileExistsError:\n",
        "            print(f\"Folder already exists: {folder_path}\")\n",
        "\n",
        "# Specify the root folder path\n",
        "root_folder_path = \"//Users/mskamran/Documents/Data Science/letters in different quality image/28*28 letters by seperation\"  # Change this to your desired root folder path\n",
        "\n",
        "# Call the function to create folders within the root folder\n",
        "create_folders(root_folder_path, bangla_alphabets)\n"
      ],
      "metadata": {
        "id": "jY7BMv8CX8T0"
      },
      "execution_count": null,
      "outputs": []
    },
    {
      "cell_type": "markdown",
      "source": [
        "# **Move Letters to Its Folder**"
      ],
      "metadata": {
        "id": "JUM1h3qQYXRo"
      }
    },
    {
      "cell_type": "markdown",
      "source": [
        "# Old Data"
      ],
      "metadata": {
        "id": "lbMI5e6hYYyv"
      }
    },
    {
      "cell_type": "code",
      "source": [
        "import os\n",
        "import shutil\n",
        "\n",
        "# Bangla alphabets\n",
        "bangla_alphabets = [\n",
        "    'অ', 'ঋ', 'খ', 'জ', 'ঢ', 'ন', 'য', 'হ', 'ো', 'ে', 'ূ', '৪', 'ক্ষ', 'চ্ছ', 'স্থ', 'শ্র',\n",
        "    'আ', 'এ', 'গ', 'ঝ', 'ণ', 'প', 'র', 'ড়', 'ঁ', 'ৈ', 'ৃ', '৫', 'ঞ্চ', 'ন্ত', 'হ্ণ', 'জ্ঞ',\n",
        "    'ই', 'ঐ', 'ঘ', 'ঞ', 'ত', 'ফ', 'ল', 'ঢ়', 'া' , 'ো', '০', '৬', 'ঞ্জ', 'ন্ড', 'হ্ন', 'দ্ব',\n",
        "    'ঈ', 'ও', 'ঙ', 'ট', 'থ', 'ব', 'শ', 'য়', 'ি', ' ৌ', '১', '৭', 'ণ্ট', 'স্ত', 'ক্ল', 'ব্ল',\n",
        "    'উ', 'ঔ', 'চ', 'ঠ', 'দ', 'ভ', 'ষ', 'ৎ', 'ী', '‍্য', '২', '৮', 'ক্ত', 'স্ট', 'ন্দ', 'ম্ন',\n",
        "    'ঊ', 'ক', 'ছ', 'ড', 'ধ', 'ম', 'স', 'ং', 'ু', '্র', '৩', '৯', 'চ্চ', 'স্ত', 'ন্ন'\n",
        "]\n",
        "\n",
        "# Replace with your source folder containing the images\n",
        "source_folder = \"/Users/mskamran/Documents/Data Science/letters in different quality image/28*28 revere\"\n",
        "\n",
        "# Base destination folder\n",
        "base_destination_folder = \"/Users/mskamran/Documents/Data Science/letters in different quality image/28*28 letter by reverse\"\n",
        "\n",
        "# Ensure base destination folder exists\n",
        "os.makedirs(base_destination_folder, exist_ok=True)  # Create if it doesn't exist\n",
        "\n",
        "# List all files in the source folder\n",
        "all_files = os.listdir(source_folder)\n",
        "\n",
        "# Define batch size\n",
        "batch_size = 1000\n",
        "\n",
        "# Calculate the number of batches\n",
        "num_batches = len(all_files) // batch_size + 1\n",
        "\n",
        "for batch_idx in range(num_batches):\n",
        "    # Get start and end index for the current batch\n",
        "    start_idx = batch_idx * batch_size\n",
        "    end_idx = min((batch_idx + 1) * batch_size, len(all_files))\n",
        "\n",
        "    # Iterate through files in the current batch\n",
        "    for filename in all_files[start_idx:end_idx]:\n",
        "        # Split the filename to extract the class_age_X_1632.jpg part\n",
        "        parts = filename.split(\"_\")\n",
        "        if len(parts) >= 4:\n",
        "            # Extract the X part from the filename\n",
        "            letter = parts[2]\n",
        "\n",
        "            # Check if the letter is in Bangla alphabets\n",
        "            if letter in bangla_alphabets:\n",
        "                # Get the corresponding destination folder name\n",
        "                destination_folder = os.path.join(base_destination_folder, letter)\n",
        "\n",
        "                # Ensure destination folder exists for the letter\n",
        "                os.makedirs(destination_folder, exist_ok=True)\n",
        "\n",
        "                # Construct source and destination paths\n",
        "                source_path = os.path.join(source_folder, filename)\n",
        "                dest_path = os.path.join(destination_folder, filename)\n",
        "\n",
        "                # Move the image to the destination folder\n",
        "                shutil.move(source_path, dest_path)\n",
        "\n",
        "    print(f\"Batch {batch_idx+1}/{num_batches} completed\")\n",
        "\n",
        "print(\"Image moving completed!\")\n"
      ],
      "metadata": {
        "id": "JiLHiYzJYYZ_"
      },
      "execution_count": null,
      "outputs": []
    },
    {
      "cell_type": "markdown",
      "source": [
        "# New Data"
      ],
      "metadata": {
        "id": "ve-jCbK4YeQ2"
      }
    },
    {
      "cell_type": "code",
      "source": [
        "import os\n",
        "import shutil\n",
        "\n",
        "# Bangla alphabets\n",
        "bangla_alphabets = [\n",
        "    'অ', 'আ', 'ই', 'ঈ', 'উ', 'ঊ',\n",
        "    'ঋ', 'এ', 'ঐ', 'ও', 'ঔ', 'ক',\n",
        "    'খ', 'গ', 'ঘ', 'ঙ', 'চ', 'ছ',\n",
        "    'জ', 'ঝ', 'ঞ', 'ট', 'ঠ', 'ড',\n",
        "    'ঢ', 'ণ', 'ত', 'থ', 'দ', 'ধ',\n",
        "    'ন', 'প', 'ফ', 'ব', 'ভ', 'ম',\n",
        "    'য', 'র', 'ল', 'শ', 'ষ', 'স',\n",
        "    'হ', 'ড়', 'ঢ়', 'য়', 'ৎ', 'ং',\n",
        "    'ো', 'ঁ', 'া', 'ি', 'ী', 'ু',\n",
        "    'ে', 'ৈ', 'ৌ', '‍্য', '্র', 'ৃ',\n",
        "    'ূ', 'ঃ', '১', '২', '৩', '৪',\n",
        "    '৫', '৬', '৭', '৮', '৯', '০',\n",
        "    'ক্ষ', 'ঞ্চ', 'ঞ্জ', 'ণ্ট', 'ক্ত', 'ন্ন',\n",
        "    'চ্ছ', 'ন্ত', 'ন্ড', 'স্ত', 'স্ট', 'জ্জ',\n",
        "    'স্থ', 'হ্ণ', 'হ্ন', 'ক্ল', 'ন্দ', 'ত্ম',\n",
        "    'শ্র', 'জ্ঞ', 'দ্ব', 'ব্ল', 'ম্ন', 'দ্ধ'\n",
        "]\n",
        "\n",
        "# Replace with your source folder containing the images\n",
        "source_folder = \"/Users/mskamran/Documents/Data Science/letters in different quality image/28*28 revere\"\n",
        "\n",
        "# Base destination folder\n",
        "base_destination_folder = \"/Users/mskamran/Documents/Data Science/letters in different quality image/28*28 letter by reverse\"\n",
        "\n",
        "# Ensure base destination folder exists\n",
        "os.makedirs(base_destination_folder, exist_ok=True)  # Create if it doesn't exist\n",
        "\n",
        "# List all files in the source folder\n",
        "all_files = os.listdir(source_folder)\n",
        "\n",
        "# Define batch size\n",
        "batch_size = 1000\n",
        "\n",
        "# Calculate the number of batches\n",
        "num_batches = len(all_files) // batch_size + 1\n",
        "\n",
        "for batch_idx in range(num_batches):\n",
        "    # Get start and end index for the current batch\n",
        "    start_idx = batch_idx * batch_size\n",
        "    end_idx = min((batch_idx + 1) * batch_size, len(all_files))\n",
        "\n",
        "    # Iterate through files in the current batch\n",
        "    for filename in all_files[start_idx:end_idx]:\n",
        "        # Split the filename to extract the class_age_X_1632.jpg part\n",
        "        parts = filename.split(\"_\")\n",
        "        if len(parts) >= 4:\n",
        "            # Extract the X part from the filename\n",
        "            letter = parts[2]\n",
        "\n",
        "            # Check if the letter is in Bangla alphabets\n",
        "            if letter in bangla_alphabets:\n",
        "                # Get the corresponding destination folder name\n",
        "                destination_folder = os.path.join(base_destination_folder, letter)\n",
        "\n",
        "                # Ensure destination folder exists for the letter\n",
        "                os.makedirs(destination_folder, exist_ok=True)\n",
        "\n",
        "                # Construct source and destination paths\n",
        "                source_path = os.path.join(source_folder, filename)\n",
        "                dest_path = os.path.join(destination_folder, filename)\n",
        "\n",
        "                # Move the image to the destination folder\n",
        "                shutil.move(source_path, dest_path)\n",
        "\n",
        "    print(f\"Batch {batch_idx+1}/{num_batches} completed\")\n",
        "\n",
        "print(\"Image moving completed!\")\n"
      ],
      "metadata": {
        "id": "EQ4oOV1MYeg4"
      },
      "execution_count": null,
      "outputs": []
    },
    {
      "cell_type": "markdown",
      "source": [
        "# Ekush Net"
      ],
      "metadata": {
        "id": "SOmoPD2AYjHJ"
      }
    },
    {
      "cell_type": "code",
      "source": [
        "import os\n",
        "import shutil\n",
        "\n",
        "# Bangla alphabets\n",
        "bangla_alphabets = [\n",
        "    'া', 'ি', 'ী', 'ু', 'ূ', 'ৃ', 'ে', 'ৈ', 'ো', 'ৌ',\n",
        "    'অ', 'আ', 'ই', 'ঈ', 'উ', 'ঊ', 'ঋ', 'এ', 'ঐ', 'ও',\n",
        "    'ঔ', 'ক', 'খ', 'গ', 'ঘ', 'ঙ', 'চ', 'ছ', 'জ', 'ঝ',\n",
        "    'ঞ', 'ট', 'ঠ', 'ড', 'ঢ', 'ণ', 'ত', 'থ', 'দ', 'ধ',\n",
        "    'ন', 'প', 'ফ', 'ব', 'ভ', 'ম', 'য', 'র', 'ল', 'শ',\n",
        "    'ষ', 'স', 'হ', 'ড়', 'ঢ়', 'য়', 'ৎ', 'ং', 'ঃ', 'ঁ',\n",
        "    'ব্দ', 'ঙ্গ', 'স্ক', 'স্ফ', 'চ্ছ', 'স্থ', 'ক্ত', 'স্ন', 'ষ্ণ',\n",
        "    'ম্প', 'প্ত', 'ম্ব', 'ত্থ', 'দ্ভ', 'ষ্ঠ', 'ল্প', 'ষ্প', 'ন্দ', 'ন্ধ',\n",
        "    'স্ম', 'ণ্ঠ', 'স্ত', 'ষ্ট', 'ন্ম', 'ত্ত', 'ঙ্খ', 'ত্ন', 'ন্ড', 'জ্ঞ',\n",
        "    'ড্ড', 'ক্ষ', 'দ্ব', 'চ্চ', 'ক্র', 'দ্দ', 'জ্জ', 'ক্ক', 'ন্ত', 'ক্ট',\n",
        "    'ঞ্চ', 'ট্ট', 'শ্চ', 'ক্স', 'জ্ব', 'ঞ্জ', 'দ্ধ', 'ন্ন', 'ঘ্ন', 'ক্ল',\n",
        "    'হ্ন', 'স্প', 'ল্ত', '0', '1', '2', '3', '4', '5',\n",
        "    '6', '7', '8', '9'\n",
        "]\n",
        "\n",
        "# Replace with your source folder containing the images\n",
        "source_folder = \"/Users/mskamran/Documents/Data Science/letters in different quality image/28*28 revere\"\n",
        "\n",
        "# Base destination folder\n",
        "base_destination_folder = \"/Users/mskamran/Documents/Data Science/letters in different quality image/28*28 letter by reverse\"\n",
        "\n",
        "# Ensure base destination folder exists\n",
        "os.makedirs(base_destination_folder, exist_ok=True)  # Create if it doesn't exist\n",
        "\n",
        "# List all files in the source folder\n",
        "all_files = os.listdir(source_folder)\n",
        "\n",
        "# Define batch size\n",
        "batch_size = 1000\n",
        "\n",
        "# Calculate the number of batches\n",
        "num_batches = len(all_files) // batch_size + 1\n",
        "\n",
        "for batch_idx in range(num_batches):\n",
        "    # Get start and end index for the current batch\n",
        "    start_idx = batch_idx * batch_size\n",
        "    end_idx = min((batch_idx + 1) * batch_size, len(all_files))\n",
        "\n",
        "    # Iterate through files in the current batch\n",
        "    for filename in all_files[start_idx:end_idx]:\n",
        "        # Split the filename to extract the class_age_X_1632.jpg part\n",
        "        parts = filename.split(\"_\")\n",
        "        if len(parts) >= 4:\n",
        "            # Extract the X part from the filename\n",
        "            letter = parts[2]\n",
        "\n",
        "            # Check if the letter is in Bangla alphabets\n",
        "            if letter in bangla_alphabets:\n",
        "                # Get the corresponding destination folder name\n",
        "                destination_folder = os.path.join(base_destination_folder, letter)\n",
        "\n",
        "                # Ensure destination folder exists for the letter\n",
        "                os.makedirs(destination_folder, exist_ok=True)\n",
        "\n",
        "                # Construct source and destination paths\n",
        "                source_path = os.path.join(source_folder, filename)\n",
        "                dest_path = os.path.join(destination_folder, filename)\n",
        "\n",
        "                # Move the image to the destination folder\n",
        "                shutil.move(source_path, dest_path)\n",
        "\n",
        "    print(f\"Batch {batch_idx+1}/{num_batches} completed\")\n",
        "\n",
        "print(\"Image moving completed!\")\n"
      ],
      "metadata": {
        "id": "E-ovLHE4YjZk"
      },
      "execution_count": null,
      "outputs": []
    },
    {
      "cell_type": "markdown",
      "source": [
        "# **Move Count and Identify Black and whiite image and**"
      ],
      "metadata": {
        "id": "bZ23863vgd6h"
      }
    },
    {
      "cell_type": "code",
      "source": [
        "import cv2\n",
        "import numpy as np\n",
        "import os\n",
        "import shutil\n",
        "\n",
        "def is_black_and_white(image_path):\n",
        "    # Read the image\n",
        "    image = cv2.imread(image_path)\n",
        "\n",
        "    if image is None:\n",
        "        raise ValueError(f\"Image not found or the path is incorrect: {image_path}\")\n",
        "\n",
        "    # Convert the image to grayscale\n",
        "    gray_image = cv2.cvtColor(image, cv2.COLOR_BGR2GRAY)\n",
        "\n",
        "    # Convert the grayscale image back to BGR format\n",
        "    gray_image_bgr = cv2.cvtColor(gray_image, cv2.COLOR_GRAY2BGR)\n",
        "\n",
        "    # Compare the original image with the grayscale image in BGR format\n",
        "    return np.array_equal(image, gray_image_bgr)\n",
        "\n",
        "def move_black_and_white_images(source_folder, destination_folder):\n",
        "  \"\"\"\n",
        "  Moves black and white images from source folder to destination folder.\n",
        "\n",
        "  Args:\n",
        "      source_folder: Path to the folder containing images.\n",
        "      destination_folder: Path to the folder where black and white images will be moved.\n",
        "  \"\"\"\n",
        "  for root, dirs, files in os.walk(source_folder):\n",
        "    for filename in files:\n",
        "      # Construct the full file path\n",
        "      file_path = os.path.join(root, filename)\n",
        "\n",
        "      # Check if the file is an image (assuming jpg, jpeg, png extensions)\n",
        "      if file_path.lower().endswith(('.png', '.jpg', '.jpeg', '.bmp', '.tiff')):\n",
        "        try:\n",
        "          if is_black_and_white(file_path):\n",
        "            # Move the image to the destination folder\n",
        "            shutil.move(file_path, os.path.join(destination_folder, filename))\n",
        "            print(f\"Moved black and white image: {file_path}\")\n",
        "        except ValueError as e:\n",
        "          print(e)\n",
        "\n",
        "# Example usage\n",
        "source_folder = '/Users/mskamran/Documents/Data Science/P2 Process/Scanned'\n",
        "destination_folder = '/Users/mskamran/Documents/Data Science/P2 Process/Black and white scan'  # Replace with your desired destination\n",
        "\n",
        "# Create the destination folder if it doesn't exist\n",
        "os.makedirs(destination_folder, exist_ok=True)  # This avoids errors if the folder already exists\n",
        "\n",
        "move_black_and_white_images(source_folder, destination_folder)\n",
        "\n",
        "print(\"Finished moving black and white images.\")\n"
      ],
      "metadata": {
        "id": "49TpZEvRgfVC"
      },
      "execution_count": null,
      "outputs": []
    },
    {
      "cell_type": "markdown",
      "source": [
        "# **Identify White Image if any and Move**"
      ],
      "metadata": {
        "id": "97lEV9uzms1q"
      }
    },
    {
      "cell_type": "code",
      "source": [
        "import os\n",
        "import cv2\n",
        "import shutil\n",
        "\n",
        "# Source directory\n",
        "source_dir = '/Users/mskamran/Documents/Data Science/Data Sets Without Augmentation/mix 512'\n",
        "\n",
        "# Destination directory for fully white images\n",
        "white_images_dir = '/Users/mskamran/Documents/Data Science/Data Sets Without Augmentation/white and junk'\n",
        "\n",
        "# Create destination directory if it doesn't exist\n",
        "if not os.path.exists(white_images_dir):\n",
        "    os.makedirs(white_images_dir)\n",
        "\n",
        "# Function to check if an image is fully white\n",
        "def is_fully_white(image):\n",
        "    # Convert image to grayscale\n",
        "    gray = cv2.cvtColor(image, cv2.COLOR_BGR2GRAY)\n",
        "\n",
        "    # Calculate the mean pixel value\n",
        "    mean_pixel_value = cv2.mean(gray)[0]\n",
        "\n",
        "    # If mean pixel value is close to 255 (white), consider it fully white\n",
        "    return mean_pixel_value > 253\n",
        "\n",
        "# Iterate through each file in the source directory\n",
        "for filename in os.listdir(source_dir):\n",
        "    # Check if the file is an image\n",
        "    if filename.endswith('.jpg') or filename.endswith('.png') or filename.endswith('.jpeg'):\n",
        "        # Read the image\n",
        "        img = cv2.imread(os.path.join(source_dir, filename))\n",
        "\n",
        "        # Check if the image is fully white\n",
        "        if is_fully_white(img):\n",
        "            # Move the fully white image to the destination directory\n",
        "            shutil.move(os.path.join(source_dir, filename), os.path.join(white_images_dir, filename))\n",
        "\n",
        "print(\"Fully white image detection and moving completed.\")\n"
      ],
      "metadata": {
        "id": "PA7Q9Oc-mtQp"
      },
      "execution_count": null,
      "outputs": []
    },
    {
      "cell_type": "markdown",
      "source": [
        "# **Find Only white images**"
      ],
      "metadata": {
        "id": "Q3s1lDi3mzjP"
      }
    },
    {
      "cell_type": "code",
      "source": [
        "import cv2\n",
        "import os\n",
        "import shutil\n",
        "\n",
        "def move_images_without_contours(input_folder, output_folder):\n",
        "    # Create the output folder if it doesn't exist\n",
        "    if not os.path.exists(output_folder):\n",
        "        os.makedirs(output_folder)\n",
        "\n",
        "    # Iterate through each file in the input folder\n",
        "    for filename in os.listdir(input_folder):\n",
        "        if filename.endswith(('.jpg', '.jpeg', '.png')):\n",
        "            # Read the image\n",
        "            img_path = os.path.join(input_folder, filename)\n",
        "            img = cv2.imread(img_path)\n",
        "            gray = cv2.cvtColor(img, cv2.COLOR_BGR2GRAY)\n",
        "\n",
        "            # Threshold the image\n",
        "            _, thresh = cv2.threshold(gray, 1, 255, cv2.THRESH_BINARY)\n",
        "\n",
        "            # Find contours\n",
        "            contours, _ = cv2.findContours(thresh, cv2.RETR_EXTERNAL, cv2.CHAIN_APPROX_SIMPLE)\n",
        "\n",
        "            # If no contours found, move the image to output folder\n",
        "            if len(contours) == 0:\n",
        "                shutil.move(img_path, os.path.join(output_folder, filename))\n",
        "\n",
        "# Define input and output folders\n",
        "input_folder = '/Users/mskamran/Documents/Data Science/Data Sets Without Augmentation/mix 512'\n",
        "output_folder = '/Users/mskamran/Documents/Data Science/Data Sets Without Augmentation/white and junk'\n",
        "\n",
        "# Call the function\n",
        "move_images_without_contours(input_folder, output_folder)\n"
      ],
      "metadata": {
        "id": "PX1xqLelmzvQ"
      },
      "execution_count": null,
      "outputs": []
    },
    {
      "cell_type": "code",
      "source": [
        "import os\n",
        "import cv2\n",
        "\n",
        "def detect_contours(input_image_path):\n",
        "    # Read the image\n",
        "    img = cv2.imread(input_image_path)\n",
        "\n",
        "    # Convert the image to grayscale\n",
        "    gray = cv2.cvtColor(img, cv2.COLOR_BGR2GRAY)\n",
        "\n",
        "    # Apply Gaussian blur to reduce noise\n",
        "    blurred = cv2.GaussianBlur(gray, (5, 5), 0)\n",
        "\n",
        "    # Perform edge detection using Canny\n",
        "    edges = cv2.Canny(blurred, 50, 150)\n",
        "\n",
        "    # Find contours in the edged image\n",
        "    contours, _ = cv2.findContours(edges.copy(), cv2.RETR_EXTERNAL, cv2.CHAIN_APPROX_SIMPLE)\n",
        "\n",
        "    if contours:\n",
        "        # If contours found, return True\n",
        "        return True\n",
        "    else:\n",
        "        # If no contours found, return False\n",
        "        return False\n",
        "\n",
        "# Input and output folders\n",
        "input_folder = '/Users/mskamran/Documents/Data Science/Data Sets Without Augmentation/mix 512'\n",
        "no_contours_folder = '/Users/mskamran/Documents/Data Science/Data Sets Without Augmentation/white and junk'\n",
        "\n",
        "# Ensure output folders exist\n",
        "os.makedirs(no_contours_folder, exist_ok=True)\n",
        "\n",
        "# Initialize counter for images with no contours\n",
        "no_contours_count = 0\n",
        "\n",
        "# Iterate through images in the input folder\n",
        "for filename in os.listdir(input_folder):\n",
        "    if filename.endswith(\".jpg\") or filename.endswith(\".jpeg\") or filename.endswith(\".png\"):\n",
        "        # Construct input path\n",
        "        input_image_path = os.path.join(input_folder, filename)\n",
        "\n",
        "        # If no contours found, move the image to no_contours_folder\n",
        "        if not detect_contours(input_image_path):\n",
        "            os.rename(input_image_path, os.path.join(no_contours_folder, filename))\n",
        "            print(\"Moved:\", filename)\n",
        "            no_contours_count += 1\n",
        "\n",
        "print(\"Total images with no contours:\", no_contours_count)\n"
      ],
      "metadata": {
        "id": "4b-ElOtDm0Y2"
      },
      "execution_count": null,
      "outputs": []
    }
  ]
}