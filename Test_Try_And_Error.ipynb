{
  "nbformat": 4,
  "nbformat_minor": 0,
  "metadata": {
    "colab": {
      "provenance": [],
      "toc_visible": true,
      "gpuType": "T4"
    },
    "kernelspec": {
      "name": "python3",
      "display_name": "Python 3"
    },
    "language_info": {
      "name": "python"
    },
    "accelerator": "GPU"
  },
  "cells": [
    {
      "cell_type": "markdown",
      "source": [
        "# **Google Drive Mount**"
      ],
      "metadata": {
        "id": "LDNDHsjgE4Zs"
      }
    },
    {
      "cell_type": "code",
      "source": [
        "from google.colab import drive\n",
        "drive.mount('/content/drive')"
      ],
      "metadata": {
        "id": "lHLUKJt5E3U6"
      },
      "execution_count": null,
      "outputs": []
    },
    {
      "cell_type": "markdown",
      "source": [
        "# **Try And error**"
      ],
      "metadata": {
        "id": "7dUkfl4QG5pR"
      }
    },
    {
      "cell_type": "markdown",
      "source": [],
      "metadata": {
        "id": "X9uQMV-j0hzs"
      }
    },
    {
      "cell_type": "code",
      "source": [
        "import os\n",
        "\n",
        "def count_images_with_keyword(folder_path, keyword):\n",
        "    count = 0\n",
        "    for root, dirs, files in os.walk(folder_path):\n",
        "        for file in files:\n",
        "            if file.endswith('.jpg') or file.endswith('.png'):  # Adjust based on image file extensions\n",
        "                image_name = os.path.splitext(file)[0]  # remove extension\n",
        "                name_parts = image_name.split('_')\n",
        "                if name_parts[0].lower() == keyword.lower():\n",
        "                    count += 1\n",
        "    return count\n",
        "\n",
        "def main():\n",
        "    folder_path = '/Users/mskamran/Documents/Data Science/Akshay porichoy All Letters'  # Change this to your folder path\n",
        "    keyword = \"Kishoregonj\"    #'Rajshashi'  # Change this to your desired keyword\n",
        "    count = count_images_with_keyword(folder_path, keyword)\n",
        "    print(f\"Number of images with '{keyword}' as the first value: {count}\")\n",
        "\n",
        "if __name__ == \"__main__\":\n",
        "    main()\n"
      ],
      "metadata": {
        "id": "KM1f-WLL-E7M"
      },
      "execution_count": null,
      "outputs": []
    },
    {
      "cell_type": "code",
      "source": [
        "import os\n",
        "import shutil\n",
        "\n",
        "def count_images_with_keyword(folder_path, keyword):\n",
        "    count = 0\n",
        "    matching_files = []\n",
        "    for root, dirs, files in os.walk(folder_path):\n",
        "        for file in files:\n",
        "            if file.endswith('.jpg') or file.endswith('.png'):  # Adjust based on image file extensions\n",
        "                image_name = os.path.splitext(file)[0]  # remove extension\n",
        "                name_parts = image_name.split('_')\n",
        "                if name_parts[0].lower() == keyword.lower():\n",
        "                    count += 1\n",
        "                    matching_files.append(os.path.join(root, file))\n",
        "    return count, matching_files\n",
        "\n",
        "def move_images_to_folder(source_folder, destination_folder, keyword):\n",
        "    count, matching_files = count_images_with_keyword(source_folder, keyword)\n",
        "    print(f\"Number of images with '{keyword}' as the first value: {count}\")\n",
        "\n",
        "    # Create the destination folder if it doesn't exist\n",
        "    if not os.path.exists(destination_folder):\n",
        "        os.makedirs(destination_folder)\n",
        "\n",
        "    # Move matching files to the destination folder\n",
        "    for file_path in matching_files:\n",
        "        shutil.move(file_path, destination_folder)\n",
        "        print(f\"Moved image '{os.path.basename(file_path)}' to '{destination_folder}'.\")\n",
        "\n",
        "def main():\n",
        "    source_folder = '/Users/mskamran/Documents/Data Science/Akshay porichoy All Letters'  # Change this to your source folder path\n",
        "    destination_folder = '/Users/mskamran/Documents/Data Science/test'  # Change this to your destination folder path\n",
        "    keyword = \"Kishoregonj\"    #'Rajshashi'  # Change this to your desired keyword\n",
        "    move_images_to_folder(source_folder, destination_folder, keyword)\n",
        "\n",
        "if __name__ == \"__main__\":\n",
        "    main()\n"
      ],
      "metadata": {
        "id": "iggpHjfcdKWl"
      },
      "execution_count": null,
      "outputs": []
    },
    {
      "cell_type": "code",
      "source": [
        "import os\n",
        "\n",
        "def rename_images_with_keyword(folder_path, keyword):\n",
        "    for root, dirs, files in os.walk(folder_path):\n",
        "        for file in files:\n",
        "            if file.endswith('.jpg') or file.endswith('.png'):  # Adjust based on image file extensions\n",
        "                old_name, extension = os.path.splitext(file)\n",
        "                name_parts = old_name.split('_')\n",
        "                if name_parts[0].lower() == keyword.lower():\n",
        "                    name_parts[0] = 'Dhaka'\n",
        "                    new_name = '_'.join(name_parts) + extension\n",
        "                    old_path = os.path.join(root, file)\n",
        "                    new_path = os.path.join(root, new_name)\n",
        "                    os.rename(old_path, new_path)\n",
        "                    print(f\"Renamed {old_path} to {new_path}\")\n",
        "\n",
        "def main():\n",
        "    folder_path = '/Users/mskamran/Documents/Data Science/test'   # Change this to your folder path\n",
        "    keyword = 'Kishoregonj'  # Change this to your desired keyword\n",
        "    rename_images_with_keyword(folder_path, keyword)\n",
        "\n",
        "if __name__ == \"__main__\":\n",
        "    main()\n"
      ],
      "metadata": {
        "id": "6Ya7FurT-Exk"
      },
      "execution_count": null,
      "outputs": []
    },
    {
      "cell_type": "code",
      "source": [
        "import os\n",
        "import shutil\n",
        "\n",
        "def count_images_with_keyword(folder_path, keyword):\n",
        "    count = 0\n",
        "    matching_files = []\n",
        "    for root, dirs, files in os.walk(folder_path):\n",
        "        for file in files:\n",
        "            if file.endswith('.jpg') or file.endswith('.png'):  # Adjust based on image file extensions\n",
        "                image_name = os.path.splitext(file)[0]  # remove extension\n",
        "                name_parts = image_name.split('_')\n",
        "                if name_parts[0].lower() == keyword.lower():\n",
        "                    count += 1\n",
        "                    matching_files.append(os.path.join(root, file))\n",
        "    return count, matching_files\n",
        "\n",
        "def main():\n",
        "    folder_path = '/Users/mskamran/Documents/Data Science/Akshay porichoy All Letters'  # Change this to your folder path\n",
        "    keyword = \"Kishoregonj\"    #'Rajshashi'  # Change this to your desired keyword\n",
        "    count, matching_files = count_images_with_keyword(folder_path, keyword)\n",
        "    print(f\"Number of images with '{keyword}' as the first value: {count}\")\n",
        "\n",
        "    # Specify the destination folder path\n",
        "    destination_folder = '/Users/mskamran/Documents/Data Science/test'\n",
        "\n",
        "    # Create the destination folder if it doesn't exist\n",
        "    if not os.path.exists(destination_folder):\n",
        "        os.makedirs(destination_folder)\n",
        "\n",
        "    # Copy matching files to the destination folder\n",
        "    for file_path in matching_files:\n",
        "        shutil.copy(file_path, destination_folder)\n",
        "\n",
        "    print(f\"Images with '{keyword}' as the first value copied to '{destination_folder}'.\")\n",
        "\n",
        "if __name__ == \"__main__\":\n",
        "    main()\n"
      ],
      "metadata": {
        "id": "2f-xyw_npKDS"
      },
      "execution_count": null,
      "outputs": []
    },
    {
      "cell_type": "code",
      "source": [
        "import os\n",
        "import shutil\n",
        "\n",
        "def process_images_with_keyword(folder_path, keyword):\n",
        "    for root, dirs, files in os.walk(folder_path):\n",
        "        for file in files:\n",
        "            if file.endswith('.jpg') or file.endswith('.png'):  # Adjust based on image file extensions\n",
        "                image_name, ext = os.path.splitext(file)\n",
        "                name_parts = image_name.split('_')\n",
        "                if name_parts[0].lower() == keyword.lower():\n",
        "                    # Construct the new filename with \"Bandarban\" added before the second value\n",
        "                    new_filename = f\"{name_parts[0]}_{name_parts[1]} {keyword}_{'_'.join(name_parts[2:])}{ext}\"\n",
        "                    # Move the image with the new filename to the same folder\n",
        "                    shutil.move(os.path.join(root, file), os.path.join(root, new_filename))\n",
        "                    print(f\"Image '{file}' renamed to '{new_filename}'.\")\n",
        "\n",
        "def main():\n",
        "    folder_path = '/Users/mskamran/Documents/Data Science/test'  # Change this to your folder path\n",
        "    keyword = \"Kishoregonj\"  # Change this to your desired keyword\n",
        "    process_images_with_keyword(folder_path, keyword)\n",
        "\n",
        "if __name__ == \"__main__\":\n",
        "    main()\n"
      ],
      "metadata": {
        "id": "IcDM_ofLpKBF"
      },
      "execution_count": null,
      "outputs": []
    }
  ]
}