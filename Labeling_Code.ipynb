{
  "nbformat": 4,
  "nbformat_minor": 0,
  "metadata": {
    "colab": {
      "provenance": []
    },
    "kernelspec": {
      "name": "python3",
      "display_name": "Python 3"
    },
    "language_info": {
      "name": "python"
    }
  },
  "cells": [
    {
      "cell_type": "markdown",
      "source": [
        "# **Rename Code**"
      ],
      "metadata": {
        "id": "YmwtII38Tl5t"
      }
    },
    {
      "cell_type": "markdown",
      "source": [
        "# **Lebel According to the Folder Name**\n"
      ],
      "metadata": {
        "id": "GB6Tll-uPcOj"
      }
    },
    {
      "cell_type": "code",
      "execution_count": null,
      "metadata": {
        "id": "JCWhrMWbPIQt"
      },
      "outputs": [],
      "source": [
        "#Concatenates the folder names with the serial number and the original filename to create a new name. This results in a longer name that includes the directory structure.\n",
        "# Uses the full directory path in the new name.\n",
        "\n",
        "import os\n",
        "\n",
        "def rename_images(root_dir):\n",
        "    for root, dirs, files in os.walk(root_dir):\n",
        "        serial_number = 1\n",
        "        for filename in files:\n",
        "            if filename.lower().endswith(('.png', '.jpg', '.jpeg', '.gif')):\n",
        "                folder_names = root.split(os.path.sep)\n",
        "                new_name = '_'.join(folder_names) + '_' + str(serial_number) + '_' + filename\n",
        "                old_path = os.path.join(root, filename)\n",
        "                new_path = os.path.join(root, new_name)\n",
        "                os.rename(old_path, new_path)\n",
        "                print(\"Serial Number:\", serial_number, \"New Name:\", new_name)\n",
        "                serial_number += 1\n",
        "\n",
        "# Replace 'root_dir' with the directory you want to start from\n",
        "root_dir = '/Users/mskamran/Documents/Data Science/Raw/Raw'\n",
        "\n",
        "rename_images(root_dir)"
      ]
    },
    {
      "cell_type": "code",
      "source": [
        "#Only adds the serial number to the original filename.\n",
        "#Does not include the directory structure in the new name.\n",
        "\n",
        "import os\n",
        "\n",
        "def rename_images(root_dir):\n",
        "    for root, dirs, files in os.walk(root_dir):\n",
        "        serial_number = 1\n",
        "        for filename in files:\n",
        "            if filename.lower().endswith(('.png', '.jpg', '.jpeg', '.gif')):\n",
        "                new_name = str(serial_number) + '_' + filename\n",
        "                old_path = os.path.join(root, filename)\n",
        "                new_path = os.path.join(root, new_name)\n",
        "                os.rename(old_path, new_path)\n",
        "                print(\"Serial Number:\", serial_number, \"New Name:\", new_name)\n",
        "                serial_number += 1\n",
        "\n",
        "# Replace 'root_dir' with the directory you want to start from\n",
        "root_dir = '/Users/mskamran/Documents/Data Science/Raw/Raw'\n",
        "\n",
        "rename_images(root_dir)\n"
      ],
      "metadata": {
        "id": "uuzzzEi9PYUW"
      },
      "execution_count": null,
      "outputs": []
    },
    {
      "cell_type": "markdown",
      "source": [
        "# **Trim the lebeling**"
      ],
      "metadata": {
        "id": "Ur8gfEisPjdT"
      }
    },
    {
      "cell_type": "code",
      "source": [
        "# n position to Position Trim\n",
        "\n",
        "import os\n",
        "\n",
        "def rename_images(root_dir):\n",
        "    for root, dirs, files in os.walk(root_dir):\n",
        "        serial_number = 1\n",
        "        for filename in files:\n",
        "            if filename.lower().endswith(('.png', '.jpg', '.jpeg', '.gif')):\n",
        "                old_path = os.path.join(root, filename)\n",
        "                parts = filename.split('_')\n",
        "                new_filename = '_'.join(parts[8:14]) + f'_{serial_number}' + os.path.splitext(filename)[1]\n",
        "                new_path = os.path.join(root, new_filename)\n",
        "                os.rename(old_path, new_path)\n",
        "                print(\"Renamed:\", filename, \"->\", new_filename)\n",
        "                serial_number += 1\n",
        "\n",
        "# Replace 'root_dir' with the directory you want to start from\n",
        "root_dir =  \"/Users/mskamran/Documents/Data Science/Raw/ALL\"\n",
        "\n",
        "rename_images(root_dir)"
      ],
      "metadata": {
        "id": "Ap6NfzrePjyy"
      },
      "execution_count": null,
      "outputs": []
    },
    {
      "cell_type": "code",
      "source": [
        "# 1st position delete\n",
        "\n",
        "import os\n",
        "\n",
        "def rename_images(root_dir):\n",
        "    for root, dirs, files in os.walk(root_dir):\n",
        "        for filename in files:\n",
        "            if filename.lower().endswith(('.png', '.jpg', '.jpeg', '.gif')):\n",
        "                old_path = os.path.join(root, filename)\n",
        "                parts = filename.split('_')\n",
        "                new_filename = '_'.join(parts[1:])\n",
        "                new_path = os.path.join(root, new_filename)\n",
        "                os.rename(old_path, new_path)\n",
        "                print(\"Renamed:\", filename, \"->\", new_filename)\n",
        "\n",
        "# Replace 'root_dir' with the directory you want to start from\n",
        "root_dir = '/Users/mskamran/Documents/Data Science/All Raw Images With Image Lebel'\n",
        "rename_images(root_dir)\n"
      ],
      "metadata": {
        "id": "HAmmM0k5PkmN"
      },
      "execution_count": null,
      "outputs": []
    },
    {
      "cell_type": "markdown",
      "source": [
        "# **Add name in Front**"
      ],
      "metadata": {
        "id": "MEP-pv8xP1CH"
      }
    },
    {
      "cell_type": "code",
      "source": [
        "import os\n",
        "import shutil\n",
        "\n",
        "# Replace with your actual root path on your MacBook\n",
        "root_path = \"/Users/mskamran/Documents/Data Science/letters in different quality image/512 all letters old\"\n",
        "\n",
        "# Ensure destination folder exists\n",
        "os.makedirs(root_path, exist_ok=True)  # Create if it doesn't exist\n",
        "\n",
        "# Iterate through subdirectories in the root path\n",
        "for dirpath, dirnames, filenames in os.walk(root_path):\n",
        "    for filename in filenames:\n",
        "        # Check if file is a supported image\n",
        "        if filename.endswith((\".jpg\", \".jpeg\", \".png\", \".bmp\", \".gif\")):\n",
        "            # Construct original and new file paths\n",
        "            source_path = os.path.join(dirpath, filename)\n",
        "            new_filename = f\"Kishoregonj_Shukhia Bazar_{filename}\"  # Add prefix to filename\n",
        "            new_path = os.path.join(dirpath, new_filename)\n",
        "\n",
        "            # Handle potential file conflicts (optional)\n",
        "            # ... (Implement your desired conflict handling here, e.g., overwrite, rename) ...\n",
        "\n",
        "            try:\n",
        "                # Rename the image in the same directory\n",
        "                os.rename(source_path, new_path)\n",
        "\n",
        "                print(f\"Renamed {filename} to {new_filename} in directory {dirpath}\")\n",
        "\n",
        "            except OSError as e:\n",
        "                print(f\"Error processing {filename}: {e}\")  # Handle potential errors\n",
        "\n",
        "print(\"Image renaming completed!\")\n"
      ],
      "metadata": {
        "id": "uLmN6RtNP1YE"
      },
      "execution_count": null,
      "outputs": []
    },
    {
      "cell_type": "markdown",
      "source": [
        "# **Replace Class and Age**"
      ],
      "metadata": {
        "id": "GAu9l5DeP9Az"
      }
    },
    {
      "cell_type": "code",
      "source": [
        "import os\n",
        "\n",
        "def rename_images(root_path):\n",
        "    # Iterate through subdirectories in the root path\n",
        "    for dirpath, dirnames, filenames in os.walk(root_path):\n",
        "        for filename in filenames:\n",
        "            # Check if file is a supported image\n",
        "            if filename.endswith((\".jpg\", \".jpeg\", \".png\", \".bmp\", \".gif\")):\n",
        "                # Split the filename into parts\n",
        "                parts = filename.split('_')\n",
        "\n",
        "                # Rename based on the specified criteria\n",
        "                if len(parts) >= 4:\n",
        "                    # Class renaming\n",
        "                    if parts[2].startswith('class'):\n",
        "                        new_class = f'C{int(parts[2][5:]):d}'\n",
        "                        parts[2] = new_class.lstrip('0')\n",
        "\n",
        "                    # Age renaming\n",
        "                    if parts[3].startswith('age'):\n",
        "                        new_age = f'A{int(parts[3][3:]):d}'\n",
        "                        parts[3] = new_age.lstrip('0')\n",
        "\n",
        "                    # Construct new filename\n",
        "                    new_filename = '_'.join(parts)\n",
        "\n",
        "                    # Construct original and new file paths\n",
        "                    source_path = os.path.join(dirpath, filename)\n",
        "                    new_path = os.path.join(dirpath, new_filename)\n",
        "\n",
        "                    # Rename the image\n",
        "                    os.rename(source_path, new_path)\n",
        "\n",
        "                    print(f\"Renamed {filename} to {new_filename} in directory {dirpath}\")\n",
        "\n",
        "# Replace with your actual root path\n",
        "root_path = \"/Users/mskamran/Documents/Data Science/letters in different quality image/512 all letters old\"\n",
        "\n",
        "# Rename the images\n",
        "rename_images(root_path)"
      ],
      "metadata": {
        "id": "jCrBXXKPP9kW"
      },
      "execution_count": null,
      "outputs": []
    },
    {
      "cell_type": "code",
      "source": [
        "import os\n",
        "\n",
        "def rename_images(root_path):\n",
        "    # Iterate through subdirectories in the root path\n",
        "    for dirpath, dirnames, filenames in os.walk(root_path):\n",
        "        for filename in filenames:\n",
        "            # Check if file is a supported image\n",
        "            if filename.endswith((\".jpg\", \".jpeg\", \".png\", \".bmp\", \".gif\")):\n",
        "                # Split the filename into parts\n",
        "                parts = filename.split('_')\n",
        "\n",
        "                # Rename based on the specified criteria\n",
        "                if len(parts) >= 4:\n",
        "                    # Class renaming\n",
        "                    if parts[2].startswith('class'):\n",
        "                        new_class = f'C{int(parts[2][5:]):d}'\n",
        "                        parts[2] = new_class.lstrip('0')\n",
        "\n",
        "                    # Age renaming\n",
        "                    if parts[3].startswith('age'):\n",
        "                        new_age = f'A{int(parts[3][3:]):d}'\n",
        "                        parts[3] = new_age.lstrip('0')\n",
        "\n",
        "                    # Construct new filename\n",
        "                    new_filename = '_'.join(parts)\n",
        "\n",
        "                    # Construct original and new file paths\n",
        "                    source_path = os.path.join(dirpath, filename)\n",
        "                    new_path = os.path.join(dirpath, new_filename)\n",
        "\n",
        "                    # Rename the image\n",
        "                    os.rename(source_path, new_path)\n",
        "\n",
        "                    print(f\"Renamed {filename} to {new_filename} in directory {dirpath}\")\n",
        "\n",
        "# Replace with your actual root path\n",
        "root_path = \"/Users/mskamran/Documents/Data Science/Akshay porichoy All Letters\"\n",
        "\n",
        "# Rename the images\n",
        "rename_images(root_path)\n"
      ],
      "metadata": {
        "id": "XiEl_uR7QC_e"
      },
      "execution_count": null,
      "outputs": []
    },
    {
      "cell_type": "markdown",
      "source": [
        "# **Replace 0 to M and 1 to F**"
      ],
      "metadata": {
        "id": "89mDILc9QNWv"
      }
    },
    {
      "cell_type": "code",
      "source": [
        "import os\n",
        "\n",
        "# Function to swap the 3rd and 4th positions in image names\n",
        "def process_images(image_folder):\n",
        "    num_processed = 0\n",
        "\n",
        "    # Iterate through images in the folder\n",
        "    for root, dirs, files in os.walk(image_folder):\n",
        "        for file_name in files:\n",
        "            image_path = os.path.join(root, file_name)\n",
        "\n",
        "            # Extract image name without extension\n",
        "            image_name, ext = os.path.splitext(file_name)\n",
        "\n",
        "            # Split image name by underscore\n",
        "            image_parts = image_name.split('_')\n",
        "\n",
        "            # Ensure there are at least 2 parts\n",
        "            if len(image_parts) < 2:\n",
        "                continue\n",
        "\n",
        "            # Replace \"0\" with \"M\" and \"1\" with \"F\" in the second position\n",
        "            if image_parts[1] == \"0\":\n",
        "                image_parts[1] = \"M\"\n",
        "            elif image_parts[1] == \"1\":\n",
        "                image_parts[1] = \"F\"\n",
        "\n",
        "            # Join the modified image parts and add extension\n",
        "            new_name = '_'.join(image_parts) + ext\n",
        "\n",
        "            # Rename the image file\n",
        "            new_image_path = os.path.join(root, new_name)\n",
        "            os.rename(image_path, new_image_path)\n",
        "\n",
        "            # Print previous and new names\n",
        "            print(f\"Previous name: {file_name}, New name: {new_name}\")\n",
        "\n",
        "            num_processed += 1\n",
        "\n",
        "    print(f\"Total {num_processed} images processed\")\n",
        "\n",
        "# Example usage\n",
        "image_folder = \"/Users/mskamran/Documents/Data Science/All Types Of Datas/Ekush New Data from Online/Data process/All lettes\"\n",
        "\n",
        "process_images(image_folder)\n"
      ],
      "metadata": {
        "id": "vw9dwBP3QO1b"
      },
      "execution_count": null,
      "outputs": []
    },
    {
      "cell_type": "markdown",
      "source": [
        "# **Add \"A\" before age number**"
      ],
      "metadata": {
        "id": "N977ozZGQbS7"
      }
    },
    {
      "cell_type": "code",
      "source": [
        "import os\n",
        "\n",
        "# Function to process images\n",
        "def process_images(image_folder):\n",
        "    num_processed = 0\n",
        "\n",
        "    # Iterate through images in the folder\n",
        "    for root, dirs, files in os.walk(image_folder):\n",
        "        for file_name in files:\n",
        "            image_path = os.path.join(root, file_name)\n",
        "\n",
        "            # Extract image name without extension\n",
        "            image_name, ext = os.path.splitext(file_name)\n",
        "\n",
        "            # Split image name by underscore\n",
        "            image_parts = image_name.split('_')\n",
        "\n",
        "            # Ensure there are at least 5 parts\n",
        "            if len(image_parts) < 5:\n",
        "                continue\n",
        "\n",
        "            # Add \"A\" to the beginning of the value in the 5th position\n",
        "            image_parts[4] = \"A\" + image_parts[4]\n",
        "\n",
        "            # Join the modified image parts and add extension\n",
        "            new_name = '_'.join(image_parts) + ext\n",
        "\n",
        "            # Rename the image file\n",
        "            new_image_path = os.path.join(root, new_name)\n",
        "            os.rename(image_path, new_image_path)\n",
        "\n",
        "            # Print previous and new names\n",
        "            print(f\"Previous name: {file_name}, New name: {new_name}\")\n",
        "\n",
        "            num_processed += 1\n",
        "\n",
        "    print(f\"Total {num_processed} images processed\")\n",
        "\n",
        "# Example usage\n",
        "image_folder = \"/Users/mskamran/Documents/Data Science/All Types Of Datas/Ekush New Data from Online/Data process/All lettes\"\n",
        "\n",
        "process_images(image_folder)\n"
      ],
      "metadata": {
        "id": "ZvRFvO2pQbnp"
      },
      "execution_count": null,
      "outputs": []
    },
    {
      "cell_type": "markdown",
      "source": [
        "# **Add division and district to the N positions**"
      ],
      "metadata": {
        "id": "5NfI3slfQkSZ"
      }
    },
    {
      "cell_type": "code",
      "source": [
        "import os\n",
        "import csv\n",
        "\n",
        "# Function to process images and CSV data\n",
        "def process_data(image_folder, csv_file, batch_size=1000):\n",
        "    with open(csv_file, 'r') as csvfile:\n",
        "        csv_reader = csv.reader(csvfile)\n",
        "        csv_data = list(csv_reader)\n",
        "\n",
        "    num_processed = 0\n",
        "\n",
        "    # Iterate through images in batches\n",
        "    for root, dirs, files in os.walk(image_folder):\n",
        "        for file_name in files:\n",
        "            image_path = os.path.join(root, file_name)\n",
        "\n",
        "            # Extract image name without extension\n",
        "            image_name = os.path.splitext(file_name)[0]\n",
        "\n",
        "            # Split image name by underscore\n",
        "            image_parts = image_name.split('_')\n",
        "\n",
        "            # Extract relevant parts from image name\n",
        "            if len(image_parts) < 3:\n",
        "                continue\n",
        "            third_part = image_parts[2]\n",
        "\n",
        "            # Find matching row in CSV data based on the third part\n",
        "            matching_row = None\n",
        "            for row in csv_data:\n",
        "                if row[0] == third_part:\n",
        "                    matching_row = row\n",
        "                    break\n",
        "\n",
        "            # If matching row found, modify image name\n",
        "            if matching_row:\n",
        "                new_name_parts = image_parts[:2] + [matching_row[1]] + [matching_row[2]] + image_parts[3:]\n",
        "                new_name = '_'.join(new_name_parts)\n",
        "\n",
        "                # Rename the image file\n",
        "                new_image_path = os.path.join(root, new_name + os.path.splitext(file_name)[1])\n",
        "                os.rename(image_path, new_image_path)\n",
        "\n",
        "                # Print previous and new names\n",
        "                print(f\"Previous name: {file_name}, New name: {new_name}\")\n",
        "\n",
        "            num_processed += 1\n",
        "\n",
        "            # Print progress\n",
        "            if num_processed % batch_size == 0:\n",
        "                print(f\"Processed {num_processed} images\")\n",
        "\n",
        "    print(f\"Total {num_processed} images processed\")\n",
        "\n",
        "# Example usage\n",
        "csv_file = \"/Users/mskamran/Documents/Data Science/All Types Of Datas/Ekush New Data from Online/Data process/sign place and division.csv\"\n",
        "image_folder = \"/Users/mskamran/Documents/Data Science/All Types Of Datas/Ekush New Data from Online/Data process/For Testing\"\n",
        "process_data(image_folder, csv_file, batch_size=1000)\n"
      ],
      "metadata": {
        "id": "YOqBz9MmQki-"
      },
      "execution_count": null,
      "outputs": []
    },
    {
      "cell_type": "markdown",
      "source": [
        "#**Swap positions**"
      ],
      "metadata": {
        "id": "ybxmpW6ZQ3Sd"
      }
    },
    {
      "cell_type": "code",
      "source": [
        "import os\n",
        "\n",
        "# Function to swap the 3rd and 4th positions in image names\n",
        "def swap_positions(image_folder):\n",
        "    num_processed = 0\n",
        "\n",
        "    # Iterate through images in the folder\n",
        "    for root, dirs, files in os.walk(image_folder):\n",
        "        for file_name in files:\n",
        "            image_path = os.path.join(root, file_name)\n",
        "\n",
        "            # Extract image name without extension\n",
        "            image_name, ext = os.path.splitext(file_name)\n",
        "\n",
        "            # Split image name by underscore\n",
        "            image_parts = image_name.split('_')\n",
        "\n",
        "            # Ensure there are at least 4 parts\n",
        "            if len(image_parts) < 4:\n",
        "                continue\n",
        "\n",
        "            # Swap the values between the 3rd and 4th positions\n",
        "            image_parts[2], image_parts[3] = image_parts[3], image_parts[2]\n",
        "\n",
        "            # Join the modified image parts and add extension\n",
        "            new_name = '_'.join(image_parts) + ext\n",
        "\n",
        "            # Rename the image file\n",
        "            new_image_path = os.path.join(root, new_name)\n",
        "            os.rename(image_path, new_image_path)\n",
        "\n",
        "            # Print previous and new names\n",
        "            print(f\"Previous name: {file_name}, New name: {new_name}\")\n",
        "\n",
        "            num_processed += 1\n",
        "\n",
        "    print(f\"Total {num_processed} images processed\")\n",
        "\n",
        "# Example usage\n",
        "image_folder = \"/Users/mskamran/Documents/Data Science/All Types Of Datas/Ekush New Data from Online/Data process/For Testing\"\n",
        "swap_positions(image_folder)\n"
      ],
      "metadata": {
        "id": "LVdxRdEpQ2sJ"
      },
      "execution_count": null,
      "outputs": []
    },
    {
      "cell_type": "markdown",
      "source": [
        "# **Swap 1st position with 3rd**"
      ],
      "metadata": {
        "id": "w9QiRMMqRB0-"
      }
    },
    {
      "cell_type": "code",
      "source": [
        "import os\n",
        "\n",
        "# Function to swap the 1st and 3rd positions in image names\n",
        "def swap_positions(image_folder):\n",
        "    num_processed = 0\n",
        "\n",
        "    # Iterate through images in the folder\n",
        "    for root, dirs, files in os.walk(image_folder):\n",
        "        for file_name in files:\n",
        "            image_path = os.path.join(root, file_name)\n",
        "\n",
        "            # Extract image name without extension\n",
        "            image_name, ext = os.path.splitext(file_name)\n",
        "\n",
        "            # Split image name by underscore\n",
        "            image_parts = image_name.split('_')\n",
        "\n",
        "            # Ensure there are at least 3 parts\n",
        "            if len(image_parts) < 3:\n",
        "                continue\n",
        "\n",
        "            # Swap the values between the 1st and 3rd positions\n",
        "            image_parts[0], image_parts[2] = image_parts[2], image_parts[0]\n",
        "\n",
        "            # Join the modified image parts and add extension\n",
        "            new_name = '_'.join(image_parts) + ext\n",
        "\n",
        "            # Rename the image file\n",
        "            new_image_path = os.path.join(root, new_name)\n",
        "            os.rename(image_path, new_image_path)\n",
        "\n",
        "            # Print previous and new names\n",
        "            print(f\"Previous name: {file_name}, New name: {new_name}\")\n",
        "\n",
        "            num_processed += 1\n",
        "\n",
        "    print(f\"Total {num_processed} images processed\")\n",
        "\n",
        "# Example usage\n",
        "image_folder = \"/Users/mskamran/Documents/Data Science/All Types Of Datas/Ekush New Data from Online/Data process/All lettes\"\n",
        "\n",
        "swap_positions(image_folder)\n"
      ],
      "metadata": {
        "id": "5thgq8ExRCMo"
      },
      "execution_count": null,
      "outputs": []
    },
    {
      "cell_type": "markdown",
      "source": [
        "# **Swap 2nd with 4th**"
      ],
      "metadata": {
        "id": "n064Fx8JRRKQ"
      }
    },
    {
      "cell_type": "code",
      "source": [
        "import os\n",
        "\n",
        "# Function to swap the 1st and 3rd positions in image names\n",
        "def swap_positions(image_folder):\n",
        "    num_processed = 0\n",
        "\n",
        "    # Iterate through images in the folder\n",
        "    for root, dirs, files in os.walk(image_folder):\n",
        "        for file_name in files:\n",
        "            image_path = os.path.join(root, file_name)\n",
        "\n",
        "            # Extract image name without extension\n",
        "            image_name, ext = os.path.splitext(file_name)\n",
        "\n",
        "            # Split image name by underscore\n",
        "            image_parts = image_name.split('_')\n",
        "\n",
        "            # Ensure there are at least 3 parts\n",
        "            if len(image_parts) < 3:\n",
        "                continue\n",
        "\n",
        "            # Swap the values between the 1st and 3rd positions\n",
        "            image_parts[1], image_parts[3] = image_parts[3], image_parts[1]\n",
        "\n",
        "            # Join the modified image parts and add extension\n",
        "            new_name = '_'.join(image_parts) + ext\n",
        "\n",
        "            # Rename the image file\n",
        "            new_image_path = os.path.join(root, new_name)\n",
        "            os.rename(image_path, new_image_path)\n",
        "\n",
        "            # Print previous and new names\n",
        "            print(f\"Previous name: {file_name}, New name: {new_name}\")\n",
        "\n",
        "            num_processed += 1\n",
        "\n",
        "    print(f\"Total {num_processed} images processed\")\n",
        "\n",
        "# Example usage\n",
        "image_folder = \"/Users/mskamran/Documents/Data Science/All Types Of Datas/Ekush New Data from Online/Data process/All lettes\"\n",
        "\n",
        "swap_positions(image_folder)\n"
      ],
      "metadata": {
        "id": "vt_TpX7URRie"
      },
      "execution_count": null,
      "outputs": []
    },
    {
      "cell_type": "markdown",
      "source": [
        "# **Swap 3rd to 6th**"
      ],
      "metadata": {
        "id": "4b4SYcb0Rg4c"
      }
    },
    {
      "cell_type": "code",
      "source": [
        "import os\n",
        "\n",
        "# Function to swap the 1st and 3rd positions in image names\n",
        "def swap_positions(image_folder):\n",
        "    num_processed = 0\n",
        "\n",
        "    # Iterate through images in the folder\n",
        "    for root, dirs, files in os.walk(image_folder):\n",
        "        for file_name in files:\n",
        "            image_path = os.path.join(root, file_name)\n",
        "\n",
        "            # Extract image name without extension\n",
        "            image_name, ext = os.path.splitext(file_name)\n",
        "\n",
        "            # Split image name by underscore\n",
        "            image_parts = image_name.split('_')\n",
        "\n",
        "            # Ensure there are at least 3 parts\n",
        "            if len(image_parts) < 3:\n",
        "                continue\n",
        "\n",
        "            # Swap the values between the 1st and 3rd positions\n",
        "            image_parts[2], image_parts[5] = image_parts[5], image_parts[2]\n",
        "\n",
        "            # Join the modified image parts and add extension\n",
        "            new_name = '_'.join(image_parts) + ext\n",
        "\n",
        "            # Rename the image file\n",
        "            new_image_path = os.path.join(root, new_name)\n",
        "            os.rename(image_path, new_image_path)\n",
        "\n",
        "            # Print previous and new names\n",
        "            print(f\"Previous name: {file_name}, New name: {new_name}\")\n",
        "\n",
        "            num_processed += 1\n",
        "\n",
        "    print(f\"Total {num_processed} images processed\")\n",
        "\n",
        "# Example usage\n",
        "image_folder = \"/Users/mskamran/Documents/Data Science/All Types Of Datas/Ekush New Data from Online/Data process/All lettes\"\n",
        "\n",
        "swap_positions(image_folder)\n"
      ],
      "metadata": {
        "id": "vOvBU3CyRhTF"
      },
      "execution_count": null,
      "outputs": []
    },
    {
      "cell_type": "markdown",
      "source": [
        "# **Add Something In \"N\" Position**"
      ],
      "metadata": {
        "id": "C0HF77iORuFJ"
      }
    },
    {
      "cell_type": "code",
      "source": [
        "import os\n",
        "\n",
        "# Replace with your actual root path\n",
        "root_path = \"/Users/mskamran/Documents/Data Science/letters in different quality image/512 all letters old\"\n",
        "\n",
        "# Iterate through the files in the directory\n",
        "for filename in os.listdir(root_path):\n",
        "    # Split the filename into parts\n",
        "    parts = filename.split('_')\n",
        "\n",
        "    # Check if the filename has at least 4 parts\n",
        "    #if len(parts) >= 4:\n",
        "        # Insert 'n' at the 4th position\n",
        "        #parts.insert(3, 'N')\n",
        "\n",
        "    # Check if the filename has at least 6 parts\n",
        "    if len(parts) >= 6:\n",
        "        #Insert 'P1' at the 6th position\n",
        "        parts.insert(5, 'P1')\n",
        "\n",
        "        # Join the parts back into a filename\n",
        "        new_filename = '_'.join(parts)\n",
        "\n",
        "        # Rename the file\n",
        "        os.rename(os.path.join(root_path, filename), os.path.join(root_path, new_filename))\n",
        "        print(f\"Renamed {filename} to {new_filename}\")\n",
        "\n",
        "print(\"File renaming completed!\")\n"
      ],
      "metadata": {
        "id": "LP1RWr8HRuin"
      },
      "execution_count": null,
      "outputs": []
    },
    {
      "cell_type": "code",
      "source": [
        "import os\n",
        "\n",
        "# Replace with your actual root path\n",
        "root_path = \"/Users/mskamran/Documents/Data Science/All Types Of Datas/Ekush New Data from Online/Data process/All lettes\"\n",
        "\n",
        "# Iterate through the files in the directory\n",
        "for filename in os.listdir(root_path):\n",
        "    # Split the filename into parts\n",
        "    parts = filename.split('_')\n",
        "\n",
        "    # Check if the filename has at least 3 parts and if the 3rd part is \"2\"\n",
        "    if len(parts) >= 3 and parts[2] == \"4\":\n",
        "        # Replace \"2\" with \"11&12\" at the 3rd position\n",
        "        parts[2] = \"OTH\"\n",
        "\n",
        "        # Join the parts back into a filename\n",
        "        new_filename = '_'.join(parts)\n",
        "\n",
        "        # Rename the file\n",
        "        os.rename(os.path.join(root_path, filename), os.path.join(root_path, new_filename))\n",
        "        print(f\"Replaced {filename} with {new_filename}\")\n",
        "\n",
        "print(\"File renaming completed!\")\n"
      ],
      "metadata": {
        "id": "jdLCBQWsRu9C"
      },
      "execution_count": null,
      "outputs": []
    },
    {
      "cell_type": "code",
      "source": [
        "import os\n",
        "\n",
        "# Replace with your actual root path\n",
        "root_path = \"/Users/mskamran/Documents/Data Science/All Types Of Datas/Ekush New Data from Online/Data process/All lettes\"\n",
        "\n",
        "# Iterate through the files in the directory\n",
        "for filename in os.listdir(root_path):\n",
        "    # Split the filename into parts\n",
        "    parts = filename.split('_')\n",
        "\n",
        "    # Check if the filename has at least 3 parts and if the 3rd part is \"OTH\"\n",
        "    if len(parts) >= 3 and parts[2] == \"4\":\n",
        "        # Print the filename\n",
        "        print(filename)\n",
        "\n",
        "print(\"File printing completed!\")\n"
      ],
      "metadata": {
        "id": "rDlFEl-CRvMm"
      },
      "execution_count": null,
      "outputs": []
    },
    {
      "cell_type": "markdown",
      "source": [
        "# **Add Seriaal Number in Last Position**"
      ],
      "metadata": {
        "id": "Mj_MK_XGR_o-"
      }
    },
    {
      "cell_type": "code",
      "source": [
        "import os\n",
        "\n",
        "# Specify the directory path\n",
        "directory = \"/Users/mskamran/Documents/Data Science/letters in different quality image/512 all letters old\"\n",
        "\n",
        "# Initialize a counter for the serial number\n",
        "serial_number_counter = 1\n",
        "\n",
        "# Iterate through all files in the directory\n",
        "for filename in os.listdir(directory):\n",
        "    # Split the filename into parts using '_' as delimiter\n",
        "    parts = filename.split('_')\n",
        "\n",
        "    # Check if the filename has at least 7 parts\n",
        "    if len(parts) >= 7:\n",
        "        # Generate the serial number\n",
        "        serial_number = str(serial_number_counter)\n",
        "\n",
        "        # Insert the serial number at the 7th position\n",
        "        parts.insert(6, serial_number)\n",
        "\n",
        "        # Join the parts back together with '_' as delimiter\n",
        "        new_filename = '_'.join(parts)\n",
        "\n",
        "        # Rename the file\n",
        "        os.rename(os.path.join(directory, filename), os.path.join(directory, new_filename))\n",
        "        print(f\"Renamed {filename} to {new_filename}\")\n",
        "\n",
        "        # Increment the serial number counter\n",
        "        serial_number_counter += 1\n",
        "\n",
        "print(\"File renaming completed!\")\n"
      ],
      "metadata": {
        "id": "-k4dk2F6R_26"
      },
      "execution_count": null,
      "outputs": []
    },
    {
      "cell_type": "markdown",
      "source": [
        "# **Rename folder according to array**"
      ],
      "metadata": {
        "id": "OP27brITSG8_"
      }
    },
    {
      "cell_type": "code",
      "source": [
        "import os\n",
        "\n",
        "# Array containing folder name replacements\n",
        "replacement_array = [\n",
        "    'া', 'ি', 'ী', 'ু', 'ূ', 'ৃ', 'ে', 'ৈ', 'ো', 'ৌ',\n",
        "    'অ', 'আ', 'ই', 'ঈ', 'উ', 'ঊ', 'ঋ', 'এ', 'ঐ', 'ও',\n",
        "    'ঔ', 'ক', 'খ', 'গ', 'ঘ', 'ঙ', 'চ', 'ছ', 'জ', 'ঝ',\n",
        "    'ঞ', 'ট', 'ঠ', 'ড', 'ঢ', 'ণ', 'ত', 'থ', 'দ', 'ধ',\n",
        "    'ন', 'প', 'ফ', 'ব', 'ভ', 'ম', 'য', 'র', 'ল', 'শ',\n",
        "    'ষ', 'স', 'হ', 'ড়', 'ঢ়', 'য়', 'ৎ', 'ং', 'ঃ', 'ঁ',\n",
        "    'ব্দ', 'ঙ্গ', 'স্ক', 'স্ফ', 'চ্ছ', 'স্থ', 'ক্ত', 'স্ন', 'ষ্ণ',\n",
        "    'ম্প', 'প্ত', 'ম্ব', 'ত্থ', 'দ্ভ', 'ষ্ঠ', 'ল্প', 'ষ্প', 'ন্দ', 'ন্ধ',\n",
        "    'স্ম', 'ণ্ঠ', 'স্ত', 'ষ্ট', 'ন্ম', 'ত্ত', 'ঙ্খ', 'ত্ন', 'ন্ড', 'জ্ঞ',\n",
        "    'ড্ড', 'ক্ষ', 'দ্ব', 'চ্চ', 'ক্র', 'দ্দ', 'জ্জ', 'ক্ক', 'ন্ত', 'ক্ট',\n",
        "    'ঞ্চ', 'ট্ট', 'শ্চ', 'ক্স', 'জ্ব', 'ঞ্জ', 'দ্ধ', 'ন্ন', 'ঘ্ন', 'ক্ল',\n",
        "    'হ্ন', 'স্প', 'ল্ত', '0', '1', '2', '3', '4', '5',\n",
        "    '6', '7', '8', '9'\n",
        "]\n",
        "\n",
        "# Path to the directory containing folders\n",
        "directory_path = \"/Users/mskamran/Documents/Data Science/All Types Of Datas/Ekush New Data from Online/Data process/pad/F\"\n",
        "\n",
        "# Iterate through folder names from 0 to 121\n",
        "for i in range(122):\n",
        "    folder_name = str(i)\n",
        "    if os.path.isdir(os.path.join(directory_path, folder_name)):\n",
        "        # Rename the folder with the corresponding replacement from the array\n",
        "        new_folder_name = replacement_array[i]\n",
        "        os.rename(os.path.join(directory_path, folder_name), os.path.join(directory_path, new_folder_name))\n",
        "        print(f\"Renamed {folder_name} to {new_folder_name}\")\n"
      ],
      "metadata": {
        "id": "qVNRRsGLSHQr"
      },
      "execution_count": null,
      "outputs": []
    },
    {
      "cell_type": "markdown",
      "source": [
        "# **Rename accoridng to folder name**"
      ],
      "metadata": {
        "id": "ey1VwYCHSTX_"
      }
    },
    {
      "cell_type": "code",
      "source": [
        "import os\n",
        "\n",
        "# Function to recursively rename images in a directory\n",
        "def rename_images(directory_path):\n",
        "    # Iterate through each item (folders and files) in the directory\n",
        "    for item in os.listdir(directory_path):\n",
        "        item_path = os.path.join(directory_path, item)\n",
        "        if os.path.isdir(item_path):  # If item is a directory\n",
        "            # Recursively call the function to rename images in subfolders\n",
        "            rename_images(item_path)\n",
        "        elif os.path.isfile(item_path):  # If item is a file\n",
        "            # Get the folder name to be added to the image name\n",
        "            folder_name = os.path.basename(directory_path)\n",
        "            # Check if the item is an image file (you can adjust this condition based on your image file extensions)\n",
        "            if item.lower().endswith(('.jpg', '.jpeg', '.png', '.gif')):\n",
        "                # Construct the new image name with the folder name appended at the end\n",
        "                new_image_name = f\"{os.path.splitext(item)[0]}_{folder_name}{os.path.splitext(item)[1]}\"\n",
        "                # Rename the image file\n",
        "                os.rename(item_path, os.path.join(directory_path, new_image_name))\n",
        "                print(f\"Renamed {item} to {new_image_name}\")\n",
        "\n",
        "# Path to the directory containing folders and images\n",
        "directory_path = \"/Users/mskamran/Documents/Data Science/All Types Of Datas/Ekush New Data from Online/Data process/pad/M\"\n",
        "\n",
        "# Start renaming images recursively from the root directory\n",
        "rename_images(directory_path)\n"
      ],
      "metadata": {
        "id": "iyVYJjf7STo_"
      },
      "execution_count": null,
      "outputs": []
    },
    {
      "cell_type": "markdown",
      "source": [
        "# **Add serial**"
      ],
      "metadata": {
        "id": "HPOoRTRqScx5"
      }
    },
    {
      "cell_type": "code",
      "source": [
        "import os\n",
        "\n",
        "# Function to recursively rename images in a directory\n",
        "def rename_images_with_serial(directory_path):\n",
        "    # Initialize counter for the total number of images\n",
        "    total_images = 0\n",
        "\n",
        "    # Iterate through each item (folders and files) in the directory\n",
        "    for item in os.listdir(directory_path):\n",
        "        item_path = os.path.join(directory_path, item)\n",
        "        if os.path.isdir(item_path):  # If item is a directory\n",
        "            # Recursively call the function to rename images in subfolders\n",
        "            subfolder_total_images = rename_images_with_serial(item_path)\n",
        "            # Add the number of images in the subfolder to the total count\n",
        "            total_images += subfolder_total_images\n",
        "        elif os.path.isfile(item_path):  # If item is a file\n",
        "            # Check if the item is an image file (you can adjust this condition based on your image file extensions)\n",
        "            if item.lower().endswith(('.jpg', '.jpeg', '.png', '.gif')):\n",
        "                # Increment the total number of images\n",
        "                total_images += 1\n",
        "                # Construct the new image name with the serial number appended\n",
        "                new_image_name = f\"{total_images}_{item}\"\n",
        "                # Rename the image file\n",
        "                os.rename(item_path, os.path.join(directory_path, new_image_name))\n",
        "                print(f\"Renamed {item} to {new_image_name}\")\n",
        "\n",
        "    # Return the total number of images in the current directory and its subdirectories\n",
        "    return total_images\n",
        "\n",
        "# Path to the directory containing folders and images\n",
        "directory_path = \"/Users/mskamran/Documents/Data Science/All Types Of Datas/Ekush New Data from Online/Data process/pad\"\n",
        "\n",
        "# Start renaming images recursively from the root directory and get the total number of images\n",
        "total_images_count = rename_images_with_serial(directory_path)\n",
        "\n",
        "print(f\"Total number of images: {total_images_count}\")\n"
      ],
      "metadata": {
        "id": "xjkxGEYNSc__"
      },
      "execution_count": null,
      "outputs": []
    },
    {
      "cell_type": "markdown",
      "source": [
        "# **3rd Position unique value**"
      ],
      "metadata": {
        "id": "bYhKu6S2SiVG"
      }
    },
    {
      "cell_type": "code",
      "source": [
        "import os\n",
        "\n",
        "# Get the path to the directory containing the images\n",
        "image_dir = \"/Users/mskamran/Documents/Data Science/All Types Of Datas/Ekush New Data from Online/Data process/All lettes\"\n",
        "\n",
        "# Get a list of all the files in the directory\n",
        "files = os.listdir(image_dir)\n",
        "\n",
        "# Filter the list to only include files with the extensions .jpg, .jpeg, or .png\n",
        "images = [file for file in files if file.endswith(('.jpg', '.jpeg', '.png'))]\n",
        "\n",
        "# Set to store the unique values of the 3rd position\n",
        "unique_values_3rd_position = set()\n",
        "\n",
        "# Iterate through each image name\n",
        "for image_name in images:\n",
        "    # Split the image name using '_'\n",
        "    parts = image_name.split('_')\n",
        "    # Add the value at the 3rd position to the set\n",
        "    unique_values_3rd_position.add(parts[2])\n",
        "\n",
        "# Convert the set to a list to maintain the order of appearance\n",
        "unique_values_3rd_position = list(unique_values_3rd_position)\n",
        "\n",
        "# Print the list of unique values at the 3rd position\n",
        "print(\"\\n\".join(unique_values_3rd_position))\n"
      ],
      "metadata": {
        "id": "5y4No5wjSijO"
      },
      "execution_count": null,
      "outputs": []
    }
  ]
}