{
  "nbformat": 4,
  "nbformat_minor": 0,
  "metadata": {
    "colab": {
      "provenance": []
    },
    "kernelspec": {
      "name": "python3",
      "display_name": "Python 3"
    },
    "language_info": {
      "name": "python"
    }
  },
  "cells": [
    {
      "cell_type": "markdown",
      "source": [
        "# **Data Analysis**"
      ],
      "metadata": {
        "id": "oVmlwvWta1tz"
      }
    },
    {
      "cell_type": "markdown",
      "source": [
        "# Make CSV file form image name"
      ],
      "metadata": {
        "id": "U76Z8y3qa4tf"
      }
    },
    {
      "cell_type": "code",
      "execution_count": null,
      "metadata": {
        "id": "pOOcszkzay-x"
      },
      "outputs": [],
      "source": [
        "import os\n",
        "import csv\n",
        "\n",
        "def create_image_csv(directory_path, csv_filename):\n",
        "    # Get all files in the directory\n",
        "    files = os.listdir(directory_path)\n",
        "\n",
        "    # Filter only image files\n",
        "    image_files = [file for file in files if file.endswith(('.png', '.jpg', '.jpeg', '.gif', '.bmp'))]\n",
        "\n",
        "    # Write image names to CSV file\n",
        "    with open(csv_filename, 'w', newline='') as csvfile:\n",
        "        writer = csv.writer(csvfile)\n",
        "        writer.writerow(['Image Name'])\n",
        "        for image_file in image_files:\n",
        "            writer.writerow([image_file])\n",
        "\n",
        "# Example usage:\n",
        "directory_path =  \"/Users/mskamran/Documents/Data Science/final letters process/Akshar Porichoy/Junk\"\n",
        "csv_filename = 'junk.csv'\n",
        "create_image_csv(directory_path, csv_filename)\n",
        "print(f\"CSV file '{csv_filename}' created successfully with image names.\")\n"
      ]
    },
    {
      "cell_type": "code",
      "source": [
        "# prompt: \"EkushNet_image_names.csv\" now i want to Download the csv file. in here : /Users/mskamran/Downloads\n",
        "\n",
        "# Download the CSV file to the specified directory\n",
        "!cp junk.csv /Users/mskamran/Downloads\n"
      ],
      "metadata": {
        "id": "5O8t6uMta_aQ"
      },
      "execution_count": null,
      "outputs": []
    },
    {
      "cell_type": "code",
      "source": [
        "import os\n",
        "import csv\n",
        "\n",
        "def count_images_in_subfolders(root_folder):\n",
        "    # Open CSV file for writing\n",
        "    with open('Letters_Count.csv', 'w', newline='') as csvfile:\n",
        "        fieldnames = ['Subfolder', 'Image Count']\n",
        "        writer = csv.DictWriter(csvfile, fieldnames=fieldnames)\n",
        "        writer.writeheader()\n",
        "\n",
        "        # Iterate through each subfolder\n",
        "        for foldername, _, filenames in os.walk(root_folder):\n",
        "            image_count = 0\n",
        "            # Count the number of images in the subfolder\n",
        "            for filename in filenames:\n",
        "                if filename.lower().endswith(('.png', '.jpg', '.jpeg', '.gif')):\n",
        "                    image_count += 1\n",
        "\n",
        "            # Write subfolder name and image count to CSV\n",
        "            writer.writerow({'Subfolder': foldername, 'Image Count': image_count})\n",
        "\n",
        "# Provide the root folder where you want to start counting images\n",
        "root_folder = '/Users/mskamran/Documents/Data Science/final letters process/Akshar Porichoy/Split by letters'\n",
        "count_images_in_subfolders(root_folder)\n"
      ],
      "metadata": {
        "id": "ahGBL6PabBNd"
      },
      "execution_count": null,
      "outputs": []
    },
    {
      "cell_type": "code",
      "source": [
        "!cp Letters_Count.csv /Users/mskamran/Downloads"
      ],
      "metadata": {
        "id": "BjEgpO8ObDvj"
      },
      "execution_count": null,
      "outputs": []
    },
    {
      "cell_type": "markdown",
      "source": [
        "# **Write image paths and names to a CSV file**"
      ],
      "metadata": {
        "id": "wgSQmUzPgw4K"
      }
    },
    {
      "cell_type": "code",
      "source": [
        "import os\n",
        "import csv\n",
        "\n",
        "def is_image_file(filename):\n",
        "    \"\"\"Check if a file is an image based on its extension.\"\"\"\n",
        "    image_extensions = ('.jpg', '.jpeg', '.png', '.bmp', '.gif', '.tiff')\n",
        "    return filename.lower().endswith(image_extensions)\n",
        "\n",
        "def find_images_in_directory(directory):\n",
        "    \"\"\"Recursively find all images in the directory and subdirectories.\"\"\"\n",
        "    images = []\n",
        "    for root, _, files in os.walk(directory):\n",
        "        for file in files:\n",
        "            if is_image_file(file):\n",
        "                images.append((root, file))\n",
        "    return images\n",
        "\n",
        "def write_images_to_csv(images, output_csv):\n",
        "    \"\"\"Write image paths and names to a CSV file.\"\"\"\n",
        "    with open(output_csv, 'w', newline='') as csvfile:\n",
        "        writer = csv.writer(csvfile)\n",
        "        writer.writerow(['Directory', 'Image Name'])\n",
        "        for image in images:\n",
        "            writer.writerow(image)\n",
        "\n",
        "def main(directory, output_csv):\n",
        "    images = find_images_in_directory(directory)\n",
        "    write_images_to_csv(images, output_csv)\n",
        "    print(f\"CSV file '{output_csv}' created successfully.\")\n",
        "\n",
        "if __name__ == \"__main__\":\n",
        "    # Replace 'your_directory' with the path to your target directory\n",
        "    directory = '/Users/mskamran/Documents/Data Science/P2 Process'\n",
        "    output_csv = 'images_list.csv'\n",
        "    main(directory, output_csv)\n"
      ],
      "metadata": {
        "id": "jGoS4rhWgxMo"
      },
      "execution_count": null,
      "outputs": []
    }
  ]
}