{
  "nbformat": 4,
  "nbformat_minor": 0,
  "metadata": {
    "colab": {
      "provenance": []
    },
    "kernelspec": {
      "name": "python3",
      "display_name": "Python 3"
    },
    "language_info": {
      "name": "python"
    }
  },
  "cells": [
    {
      "cell_type": "markdown",
      "source": [
        "# **Check All Letters are in the Tempalte**"
      ],
      "metadata": {
        "id": "xhh0ViGeNglC"
      }
    },
    {
      "cell_type": "code",
      "execution_count": null,
      "metadata": {
        "id": "pIuHZbhdNQ7h"
      },
      "outputs": [],
      "source": [
        "# check all letters are in the tempalte\n",
        "\n",
        "def count_letters_in_string(input_string, letter_array):\n",
        "    letter_count = {}\n",
        "    not_found_letters = set(letter_array)  # Initialize with all letters\n",
        "\n",
        "    # Convert the input string to lowercase for case-insensitive matching\n",
        "    input_string = input_string.lower()\n",
        "\n",
        "    # Iterate through the string characters\n",
        "    for char in input_string:\n",
        "        if char in letter_array:\n",
        "            if char in letter_count:\n",
        "                letter_count[char] += 1\n",
        "            else:\n",
        "                letter_count[char] = 1\n",
        "            not_found_letters.discard(char)  # Remove the found letter from the set\n",
        "\n",
        "    return letter_count, list(not_found_letters)\n",
        "\n",
        "if __name__ == \"__main__\":\n",
        "    # Define the letter array\n",
        "    letter_array = [\n",
        "    'অ', 'আ', 'ই', 'ঈ', 'উ', 'ঊ',\n",
        "    'ঋ', 'এ', 'ঐ', 'ও', 'ঔ', 'ক',\n",
        "    'খ', 'গ', 'ঘ', 'ঙ', 'চ', 'ছ',\n",
        "    'জ', 'ঝ', 'ঞ', 'ট', 'ঠ', 'ড',\n",
        "    'ঢ', 'ণ', 'ত', 'থ', 'দ', 'ধ',\n",
        "    'ন', 'প', 'ফ', 'ব', 'ভ', 'ম',\n",
        "    'য', 'র', 'ল', 'শ', 'ষ', 'স',\n",
        "    'হ', 'ড়', 'ঢ়', 'য়', 'ৎ', 'ং',\n",
        "    'ো', 'ঁ', 'া', 'ি', 'ী', 'ু',\n",
        "    'ে', 'ৈ', 'ো', 'ৌ', '‍্য', '্র',\n",
        "    'ূ', 'ৃ']\n",
        "\n",
        "    # Get the input string from the user\n",
        "    input_string = input(\"Enter a string: \")\n",
        "\n",
        "    # Call the function to count the letters in the string and find missing letters\n",
        "    letter_count, not_found_letters = count_letters_in_string(input_string, letter_array)\n",
        "\n",
        "    # Display the result\n",
        "    for letter, count in letter_count.items():\n",
        "        print(f\"'{letter}' appears {count} times in the input string.\")\n",
        "\n",
        "    if not_found_letters:\n",
        "        print(\"Letters not found in the input string:\")\n",
        "        print(not_found_letters)\n",
        "        print(f\"Number of letters not found: {len(not_found_letters)}\")"
      ]
    },
    {
      "cell_type": "code",
      "source": [
        "def count_letters_in_string(input_string, letter_array):\n",
        "    letter_count = {}\n",
        "    not_found_letters = set(letter_array)  # Initialize with all letters\n",
        "\n",
        "    # Convert the input string to lowercase for case-insensitive matching\n",
        "    input_string = input_string.lower()\n",
        "\n",
        "    # Iterate through the string characters\n",
        "    for char in input_string:\n",
        "        if char in letter_array:\n",
        "            if char in letter_count:\n",
        "                letter_count[char] += 1\n",
        "            else:\n",
        "                letter_count[char] = 1\n",
        "            not_found_letters.discard(char)  # Remove the found letter from the set\n",
        "\n",
        "    return letter_count, list(not_found_letters)\n",
        "\n",
        "if __name__ == \"__main__\":\n",
        "    # Define the letter array\n",
        "    letter_array = [ 'ড', '্র', 'ৎ', 'য়', 'ঁ', 'ঝ', 'ঐ', 'ঠ', 'থ', 'ঋ', 'উ', 'ঘ', 'ঞ', 'ফ', 'ৌ', 'ো', 'ঙ', 'ৈ', 'আ', 'চ', 'ঢ়', 'ঔ', 'ঈ', 'ঊ', 'ড়', '‍্য', 'ঃ']\n",
        "\n",
        "    # Get the input string from the user\n",
        "    input_string = input(\"Enter a string: \")\n",
        "\n",
        "    # Call the function to count the letters in the string and find missing letters\n",
        "    letter_count, not_found_letters = count_letters_in_string(input_string, letter_array)\n",
        "\n",
        "    # Display the result\n",
        "    for letter, count in letter_count.items():\n",
        "        print(f\"'{letter}' appears {count} times in the input string.\")\n",
        "\n",
        "    if not_found_letters:\n",
        "        print(\"Letters not found in the input string:\")\n",
        "        print(not_found_letters)\n",
        "        print(f\"Number of letters not found: {len(not_found_letters)}\")"
      ],
      "metadata": {
        "id": "THkkZyoWNnzI"
      },
      "execution_count": null,
      "outputs": []
    },
    {
      "cell_type": "markdown",
      "source": [
        "# **Count How may Images Are in the Folder**"
      ],
      "metadata": {
        "id": "-J_g052ANyEH"
      }
    },
    {
      "cell_type": "code",
      "source": [
        "# prompt: write a code which will iterate every folder and count how many imagses are in the folder\n",
        "\n",
        "import os\n",
        "\n",
        "def count_images(folder_path):\n",
        "  \"\"\"\n",
        "  Counts the number of images in a folder and its subfolders.\n",
        "\n",
        "  Args:\n",
        "    folder_path: The path to the folder.\n",
        "\n",
        "  Returns:\n",
        "    The total number of images in the folder and its subfolders.\n",
        "  \"\"\"\n",
        "\n",
        "  total_images = 0\n",
        "  for root, dirs, files in os.walk(folder_path):\n",
        "    for file in files:\n",
        "      if file.lower().endswith(('.jpg')): #('.png', '.jpg', '.jpeg', '.gif', '.bmp', '.heic')\n",
        "        total_images += 1\n",
        "\n",
        "  return total_images\n",
        "\n",
        "# Example usage\n",
        "folder_path =  \"/Users/mskamran/Documents/Data Science/Raw/ALL\"\n",
        "#\"/Users/mskamran/Documents/Data Science/All Types Of Datas/Ekush New Data from Online/Data process/For Testing\"\n",
        "#\"/Users/mskamran/Documents/Data Science/All Types Of Datas/Ekush New Data from Online/Data process/All lettes\"\n",
        "\n",
        "num_images = count_images(folder_path)\n",
        "print(f\"Total images: {num_images}\")"
      ],
      "metadata": {
        "id": "u6B6Rkd_NzPU"
      },
      "execution_count": null,
      "outputs": []
    },
    {
      "cell_type": "markdown",
      "source": [
        "# **Count Size of The Folder**"
      ],
      "metadata": {
        "id": "z9Wao7IsN-pP"
      }
    },
    {
      "cell_type": "code",
      "source": [
        "import os\n",
        "\n",
        "def get_folder_size(folder_path):\n",
        "    \"\"\"\n",
        "    Calculate the size of a folder in gigabytes (GB).\n",
        "\n",
        "    Args:\n",
        "        folder_path (str): Path to the folder.\n",
        "\n",
        "    Returns:\n",
        "        float: Size of the folder in gigabytes.\n",
        "    \"\"\"\n",
        "    total_size = 0\n",
        "    for dirpath, _, filenames in os.walk(folder_path):\n",
        "        for filename in filenames:\n",
        "            file_path = os.path.join(dirpath, filename)\n",
        "            total_size += os.path.getsize(file_path)\n",
        "    # Convert bytes to gigabytes (GB)\n",
        "    size_in_gb = total_size / (1024 * 1024 * 1024)\n",
        "    return size_in_gb\n",
        "\n",
        "# Example usage:\n",
        "folder_path = \"/Users/mskamran/Documents\"\n",
        "folder_size_gb = get_folder_size(folder_path)\n",
        "print(f\"Folder size: {folder_size_gb:.2f} GB\")\n"
      ],
      "metadata": {
        "id": "WrUhERLQN_9w"
      },
      "execution_count": null,
      "outputs": []
    },
    {
      "cell_type": "code",
      "source": [
        "import os\n",
        "\n",
        "def get_folder_size(folder_path):\n",
        "    \"\"\"\n",
        "    Calculate the size of a folder in gigabytes (GB).\n",
        "\n",
        "    Args:\n",
        "        folder_path (str): Path to the folder.\n",
        "\n",
        "    Returns:\n",
        "        float: Size of the folder in gigabytes.\n",
        "    \"\"\"\n",
        "    total_size = 0\n",
        "    for dirpath, _, filenames in os.walk(folder_path):\n",
        "        for filename in filenames:\n",
        "            file_path = os.path.join(dirpath, filename)\n",
        "            total_size += os.path.getsize(file_path)\n",
        "    # Convert bytes to gigabytes (GB)\n",
        "    size_in_gb = total_size / (1024 * 1024 * 1024)\n",
        "    return size_in_gb\n",
        "\n",
        "def get_all_folders_size(root_folder):\n",
        "    \"\"\"\n",
        "    Get the size of each folder within the specified root directory.\n",
        "\n",
        "    Args:\n",
        "        root_folder (str): Path to the root folder.\n",
        "\n",
        "    Returns:\n",
        "        dict: Dictionary with folder paths as keys and their sizes in gigabytes as values.\n",
        "    \"\"\"\n",
        "    folder_sizes = {}\n",
        "    for dirpath, dirnames, _ in os.walk(root_folder):\n",
        "        for dirname in dirnames:\n",
        "            folder_path = os.path.join(dirpath, dirname)\n",
        "            size_gb = get_folder_size(folder_path)\n",
        "            folder_sizes[folder_path] = size_gb\n",
        "    return folder_sizes\n",
        "\n",
        "# Example usage:\n",
        "root_folder_path = \"/Users/mskamran/Documents/Data Science/Data Set With Augment\"\n",
        "folder_sizes = get_all_folders_size(root_folder_path)\n",
        "\n",
        "for folder, size_gb in folder_sizes.items():\n",
        "    print(f\"The folder '{folder}' has a size of {size_gb:.2f} GB\")\n"
      ],
      "metadata": {
        "id": "8UXNo-StOFp5"
      },
      "execution_count": null,
      "outputs": []
    },
    {
      "cell_type": "markdown",
      "source": [
        "# **Count Pixal Ration Of an Image**"
      ],
      "metadata": {
        "id": "uFcXloKBONEB"
      }
    },
    {
      "cell_type": "code",
      "source": [
        "from PIL import Image\n",
        "\n",
        "def get_image_dimensions(image_path):\n",
        "    \"\"\"\n",
        "    Get the width and height of an image.\n",
        "\n",
        "    Args:\n",
        "        image_path (str): Path to the image file.\n",
        "\n",
        "    Returns:\n",
        "        tuple: Width and height of the image in pixels.\n",
        "    \"\"\"\n",
        "    try:\n",
        "        # Open the image file\n",
        "        with Image.open(image_path) as img:\n",
        "            # Get the dimensions of the image in pixels\n",
        "            width, height = img.size\n",
        "            return width, height\n",
        "    except Exception as e:\n",
        "        print(f\"Error: {e}\")\n",
        "        return None\n",
        "\n",
        "# Example usage:\n",
        "image_path =\"/Users/mskamran/Documents/Data Science/Data Sets/Letters/512 Letters copy/ঁ/Chattogram_Baishari Madrasa Bandarban_C10_F_A14_P1_460_ঁ.jpg\"\n",
        "dimensions = get_image_dimensions(image_path)\n",
        "if dimensions is not None:\n",
        "    width, height = dimensions\n",
        "    print(f\"Width of the image: {width} pixels\")\n",
        "    print(f\"Height of the image: {height} pixels\")\n"
      ],
      "metadata": {
        "id": "JvBcVfTVOIIa"
      },
      "execution_count": null,
      "outputs": []
    },
    {
      "cell_type": "markdown",
      "source": [
        "# **Count How many Folders Are in an Folder**"
      ],
      "metadata": {
        "id": "eTYOvWRRO5He"
      }
    },
    {
      "cell_type": "code",
      "source": [
        "import os\n",
        "\n",
        "def count_folders(folder_path):\n",
        "    # Initialize a counter for folders\n",
        "    folder_count = 0\n",
        "\n",
        "    # Iterate over the items in the folder\n",
        "    for item in os.listdir(folder_path):\n",
        "        # Join the folder path with the item name\n",
        "        item_path = os.path.join(folder_path, item)\n",
        "        # Check if the item is a directory\n",
        "        if os.path.isdir(item_path):\n",
        "            # If it's a directory, increment the folder count\n",
        "            folder_count += 1\n",
        "\n",
        "    return folder_count\n",
        "\n",
        "# Specify the path to the folder you want to count folders in\n",
        "folder_path = \"/Users/mskamran/Documents/Data Science/Raw/Raw\"  # Change this to the path of your folder\n",
        "\n",
        "# Call the function to count the folders\n",
        "num_folders = count_folders(folder_path)\n",
        "print(f\"Number of folders in '{folder_path}': {num_folders}\")\n"
      ],
      "metadata": {
        "id": "rfnSXrh-O5nB"
      },
      "execution_count": null,
      "outputs": []
    },
    {
      "cell_type": "markdown",
      "source": [
        "# **Find Specific Letters and In a Folder And Count**"
      ],
      "metadata": {
        "id": "_5bdplXEXRUI"
      }
    },
    {
      "cell_type": "code",
      "source": [
        "import os\n",
        "\n",
        "# Replace with your source folder containing the images\n",
        "source_folder = \"/Users/mskamran/Documents/Data Science/letters in different quality image/28*28\"\n",
        "\n",
        "# List files in the source folder\n",
        "file_list = os.listdir(source_folder)\n",
        "\n",
        "# Initialize a counter for filenames meeting the condition\n",
        "count = 0\n",
        "\n",
        "# Display the list of filenames that meet the specified condition and count them\n",
        "print(\"List of filenames with '0' in the specified position:\")\n",
        "for filename in file_list:\n",
        "    # Check if filename meets the condition\n",
        "    parts = filename.split(\"_\")\n",
        "    if len(parts) >= 4:\n",
        "        X = parts[2]\n",
        "        if X == \"‍্য\":\n",
        "            print(filename)\n",
        "            count += 1\n",
        "\n",
        "# Display the count of filenames meeting the condition\n",
        "print(f\"Total number of filenames with '0' in the specified position: {count}\")"
      ],
      "metadata": {
        "id": "3F6h2OBDXRs3"
      },
      "execution_count": null,
      "outputs": []
    },
    {
      "cell_type": "code",
      "source": [
        "import os\n",
        "import shutil\n",
        "\n",
        "# Replace with your source folder containing the images\n",
        "source_folder = \"/Users/mskamran/Documents/Data Science/letters in different quality image/28*28\"\n",
        "\n",
        "\n",
        "# Replace with your destination folder for images containing \"0\" in the X position\n",
        "destination_folder = \"/Users/mskamran/Documents/Data Science/letters in different quality image/contains_0\"\n",
        "\n",
        "# Ensure destination folder exists\n",
        "os.makedirs(destination_folder, exist_ok=True)  # Create if it doesn't exist\n",
        "\n",
        "# Iterate through files in the source folder\n",
        "for filename in os.listdir(source_folder):\n",
        "    # Split the filename to extract the class_age_X_1632.jpg part\n",
        "    parts = filename.split(\"_\")\n",
        "    if len(parts) >= 4:\n",
        "        # Extract the X part from the filename\n",
        "        X = parts[2]\n",
        "\n",
        "        # Check if X is \"0\"\n",
        "        if X == \"‍্য\":\n",
        "            # Construct source and destination paths\n",
        "            source_path = os.path.join(source_folder, filename)\n",
        "            dest_path = os.path.join(destination_folder, filename)\n",
        "\n",
        "            try:\n",
        "                # Move the image to the destination folder\n",
        "                shutil.move(source_path, dest_path)\n",
        "                print(f\"Moved {filename} to {destination_folder}\")\n",
        "\n",
        "            except Exception as e:\n",
        "                print(f\"Error moving {filename}: {e}\")\n",
        "\n",
        "print(\"Image moving completed!\")"
      ],
      "metadata": {
        "id": "uBumwMltXT_f"
      },
      "execution_count": null,
      "outputs": []
    },
    {
      "cell_type": "markdown",
      "source": [
        "# **Move and Find Specific Image**"
      ],
      "metadata": {
        "id": "6f1Bo_KbXdnt"
      }
    },
    {
      "cell_type": "code",
      "source": [
        "import os\n",
        "import shutil\n",
        "\n",
        "source_dir = '/Users/mskamran/Documents/Data Science/Page1 With Lebel'\n",
        "destination_dir = '/Users/mskamran/Documents/Data Science/need to edit different'\n",
        "school_name = \"Rajshashi Court Academy School RCAS\"\n",
        "exclude_value = \"C8\"\n",
        "\n",
        "# Create destination directory if it doesn't exist\n",
        "if not os.path.exists(destination_dir):\n",
        "    os.makedirs(destination_dir)\n",
        "\n",
        "# Iterate through each file in the source directory\n",
        "for filename in os.listdir(source_dir):\n",
        "    # Split the filename by underscore\n",
        "    parts = filename.split('_')\n",
        "\n",
        "    # Check if the filename has at least 3 parts and the 2nd part matches the school name\n",
        "    if len(parts) >= 3 and parts[1] == school_name:\n",
        "        # Check if the 3rd part is not equal to exclude_value\n",
        "        if parts[2] != exclude_value:\n",
        "            # Construct source and destination paths\n",
        "            src_path = os.path.join(source_dir, filename)\n",
        "            dst_path = os.path.join(destination_dir, filename)\n",
        "\n",
        "            # Move the file to the destination directory\n",
        "            shutil.move(src_path, dst_path)\n",
        "            print(f\"Moved {filename} to {destination_dir}\")\n"
      ],
      "metadata": {
        "id": "vZjeNZDTXeP3"
      },
      "execution_count": null,
      "outputs": []
    },
    {
      "cell_type": "markdown",
      "source": [
        "# **Count and Identify Black and whiite image**"
      ],
      "metadata": {
        "id": "EQ1bkY8qgDeC"
      }
    },
    {
      "cell_type": "code",
      "source": [
        "import cv2\n",
        "import numpy as np\n",
        "import os\n",
        "\n",
        "def is_black_and_white(image_path):\n",
        "    # Read the image\n",
        "    image = cv2.imread(image_path)\n",
        "\n",
        "    if image is None:\n",
        "        raise ValueError(f\"Image not found or the path is incorrect: {image_path}\")\n",
        "\n",
        "    # Convert the image to grayscale\n",
        "    gray_image = cv2.cvtColor(image, cv2.COLOR_BGR2GRAY)\n",
        "\n",
        "    # Convert the grayscale image back to BGR format\n",
        "    gray_image_bgr = cv2.cvtColor(gray_image, cv2.COLOR_GRAY2BGR)\n",
        "\n",
        "    # Compare the original image with the grayscale image in BGR format\n",
        "    return np.array_equal(image, gray_image_bgr)\n",
        "\n",
        "def count_images_in_folder(folder_path):\n",
        "    bw_count = 0\n",
        "    color_count = 0\n",
        "\n",
        "    # Iterate over all files in the folder and subfolders\n",
        "    for root, dirs, files in os.walk(folder_path):\n",
        "        for filename in files:\n",
        "            # Construct the full file path\n",
        "            file_path = os.path.join(root, filename)\n",
        "\n",
        "            # Check if the file is an image (assuming jpg, jpeg, png extensions)\n",
        "            if file_path.lower().endswith(('.png', '.jpg', '.jpeg', '.bmp', '.tiff')):\n",
        "                try:\n",
        "                    if is_black_and_white(file_path):\n",
        "                        bw_count += 1\n",
        "                    else:\n",
        "                        color_count += 1\n",
        "                except ValueError as e:\n",
        "                    print(e)\n",
        "\n",
        "    return bw_count, color_count\n",
        "\n",
        "# Example usage\n",
        "folder_path = '/Users/mskamran/Documents/Data Science/P2 Process'\n",
        "bw_count, color_count = count_images_in_folder(folder_path)\n",
        "\n",
        "print(f\"Number of black and white images: {bw_count}\")\n",
        "print(f\"Number of color images: {color_count}\")\n"
      ],
      "metadata": {
        "id": "6briPeVYgEQY"
      },
      "execution_count": null,
      "outputs": []
    },
    {
      "cell_type": "markdown",
      "source": [
        "# **Count and Identify Black and whiite image and make CSV**"
      ],
      "metadata": {
        "id": "Z5daWDyFgFx8"
      }
    },
    {
      "cell_type": "code",
      "source": [
        "import cv2\n",
        "import numpy as np\n",
        "import os\n",
        "import csv\n",
        "\n",
        "def is_black_and_white(image_path):\n",
        "    # Read the image\n",
        "    image = cv2.imread(image_path)\n",
        "\n",
        "    if image is None:\n",
        "        raise ValueError(f\"Image not found or the path is incorrect: {image_path}\")\n",
        "\n",
        "    # Convert the image to grayscale\n",
        "    gray_image = cv2.cvtColor(image, cv2.COLOR_BGR2GRAY)\n",
        "\n",
        "    # Convert the grayscale image back to BGR format\n",
        "    gray_image_bgr = cv2.cvtColor(gray_image, cv2.COLOR_GRAY2BGR)\n",
        "\n",
        "    # Compare the original image with the grayscale image in BGR format\n",
        "    return np.array_equal(image, gray_image_bgr)\n",
        "\n",
        "def count_images_in_folder(folder_path):\n",
        "    bw_count = 0\n",
        "    color_count = 0\n",
        "    bw_images = []\n",
        "\n",
        "    # Iterate over all files in the folder and subfolders\n",
        "    for root, dirs, files in os.walk(folder_path):\n",
        "        for filename in files:\n",
        "            # Construct the full file path\n",
        "            file_path = os.path.join(root, filename)\n",
        "\n",
        "            # Check if the file is an image (assuming jpg, jpeg, png extensions)\n",
        "            if file_path.lower().endswith(('.png', '.jpg', '.jpeg', '.bmp', '.tiff')):\n",
        "                try:\n",
        "                    if is_black_and_white(file_path):\n",
        "                        bw_count += 1\n",
        "                        bw_images.append(filename)  # Collect only the file name\n",
        "                    else:\n",
        "                        color_count += 1\n",
        "                except ValueError as e:\n",
        "                    print(e)\n",
        "\n",
        "    return bw_count, color_count, bw_images\n",
        "\n",
        "def save_bw_images_to_csv(bw_images, csv_path):\n",
        "    with open(csv_path, mode='w', newline='') as file:\n",
        "        writer = csv.writer(file)\n",
        "        writer.writerow([\"Black and White Image Name\"])\n",
        "        for image in bw_images:\n",
        "            writer.writerow([image])\n",
        "\n",
        "# Example usage\n",
        "folder_path = '/Users/mskamran/Documents/Data Science/P2 Process/Scanned'\n",
        "csv_path = 'black_and_white_images.csv'\n",
        "bw_count, color_count, bw_images = count_images_in_folder(folder_path)\n",
        "\n",
        "print(f\"Number of black and white images: {bw_count}\")\n",
        "print(f\"Number of color images: {color_count}\")\n",
        "\n",
        "save_bw_images_to_csv(bw_images, csv_path)\n",
        "print(f\"List of black and white images saved to {csv_path}\")\n"
      ],
      "metadata": {
        "id": "M-4P3EyzgOxC"
      },
      "execution_count": null,
      "outputs": []
    }
  ]
}